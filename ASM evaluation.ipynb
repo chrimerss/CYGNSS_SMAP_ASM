{
 "cells": [
  {
   "cell_type": "code",
   "execution_count": 1,
   "metadata": {},
   "outputs": [
    {
     "name": "stdout",
     "output_type": "stream",
     "text": [
      "\n",
      "## You are using the Python ARM Radar Toolkit (Py-ART), an open source\n",
      "## library for working with weather radar data. Py-ART is partly\n",
      "## supported by the U.S. Department of Energy as part of the Atmospheric\n",
      "## Radiation Measurement (ARM) Climate Research Facility, an Office of\n",
      "## Science user facility.\n",
      "##\n",
      "## If you use this software to prepare a publication, please cite:\n",
      "##\n",
      "##     JJ Helmus and SM Collis, JORS 2016, doi: 10.5334/jors.119\n",
      "\n"
     ]
    }
   ],
   "source": [
    "import xarray as xr\n",
    "import rioxarray\n",
    "import pandas as pd\n",
    "import geopandas as gpd\n",
    "import numpy as np\n",
    "from glob import glob\n",
    "import h5py\n",
    "import cartopy\n",
    "import pyart\n",
    "import warnings\n",
    "warnings.filterwarnings('ignore', category=DeprecationWarning)\n",
    "warnings.filterwarnings('ignore', category=RuntimeWarning)\n",
    "warnings.filterwarnings('ignore', category=UserWarning)\n",
    "# pyplot needed to plot the dataset, but animation only needed much further down.\n",
    "from matplotlib import animation\n",
    "%matplotlib inline\n",
    "\n",
    "# This is needed to display graphics calculated outside of jupyter notebook\n",
    "from IPython.display import HTML, display\n",
    "\n",
    "import sys\n",
    "sys.path.append('~/PlotGallery')\n",
    "from matplotlibconfig import basic\n",
    "basic()"
   ]
  },
  {
   "cell_type": "code",
   "execution_count": 7,
   "metadata": {},
   "outputs": [],
   "source": [
    "dict_hurricanes= {\n",
    "    'Harvey': {'datetime': [], 'points':[]},\n",
    "    'Imelda': {'datetime': [], 'points':[]},\n",
    "    'Florence': {'datetime': [], 'points': []}}"
   ]
  },
  {
   "cell_type": "code",
   "execution_count": 8,
   "metadata": {},
   "outputs": [],
   "source": [
    "for event in dict_hurricanes.keys():\n",
    "    fname= glob('tracks/%s/*_pts.shp'%(event))[0]\n",
    "    pnts= gpd.read_file(fname)\n",
    "    pnts.DTG= pd.to_datetime(pnts.DTG, format='%Y%m%d%H')\n",
    "    dict_hurricanes[event]['datetime']= sorted(pnts.DTG.tolist())\n",
    "    order= np.argsort(pnts.DTG.values)\n",
    "    dict_hurricanes[event]['points']= list(zip(pnts.LON.values[order], pnts.LAT.values[order]))"
   ]
  },
  {
   "cell_type": "code",
   "execution_count": 9,
   "metadata": {},
   "outputs": [],
   "source": [
    "AOI= gpd.read_file('area/great_extent.shp').to_crs('EPSG:4326')"
   ]
  },
  {
   "cell_type": "code",
   "execution_count": 17,
   "metadata": {},
   "outputs": [],
   "source": [
    "from retrieve_SMAP import read_SML3P_AM, read_SML3P_PM, find_nearest"
   ]
  },
  {
   "cell_type": "markdown",
   "metadata": {},
   "source": [
    "# Harvey"
   ]
  },
  {
   "cell_type": "code",
   "execution_count": 10,
   "metadata": {},
   "outputs": [],
   "source": [
    "EVENT= 'Harvey'\n",
    "fnames= ['/media/scratch/ZhiLi/soil_moisture/CYGNSS/ucar_cu_cygnss_sm_v1_2018_%03d.nc'%dt.dayofyear for dt in dict_hurricanes[EVENT]['datetime']]\n",
    "cygnss= xr.open_mfdataset(fnames)\n",
    "cygnss['lat']= cygnss.latitude.values[0,:,0]\n",
    "cygnss['lon']= cygnss.longitude.values[0,0,:]\n",
    "cygnss= cygnss.rename({'lon': 'x', 'lat':'y'}).SM_subdaily.rio.set_crs('EPSG:4326').rio.clip([AOI.geometry.iloc[0]])\n",
    "# ilons= (cygnss.lon<= -74) & (cygnss.lon>= -107)\n",
    "\n",
    "cygnss_arr= np.zeros((cygnss.shape[0]*4,cygnss.shape[-2],cygnss.shape[-1]))\n",
    "for i in range(cygnss.shape[0]*4):\n",
    "    cygnss_arr[i,:,:]= cygnss[i//4,i%4,:,:]"
   ]
  },
  {
   "cell_type": "code",
   "execution_count": null,
   "metadata": {},
   "outputs": [],
   "source": [
    "sms= []\n",
    "times= []\n",
    "time_range_SMAP= pd.date_range(pd.to_datetime(dict_hurricanes[EVENT]['datetime'][0]),\n",
    "                              pd.to_datetime(dict_hurricanes[EVENT]['datetime'][-1]),\n",
    "                               freq='D')\n",
    "for datetime in time_range_SMAP:\n",
    "    fname= glob('/media/scratch/ZhiLi/SMAP/SMAP_L3_SM_P_E_%s*'%datetime.strftime('%Y%m%d'))[0]\n",
    "    sm,sm_time,lon,lat=read_SML3P_AM(fname)\n",
    "    \n",
    "    if ((lon>cygnss.x.values.min()) & (lon<cygnss.x.values.max()) & (lat>cygnss.y.values.min()) &\\\n",
    "        (lat<cygnss.y.values.max())).any():\n",
    "        sm_values= find_nearest(sm, lon, lat, cygnss.x.values, cygnss.y.values)\n",
    "        sms.append(sm_values)\n",
    "        times.append(sm_time)\n",
    "    sm,time,lon,lat=read_SML3P_PM(fname)\n",
    "    if ((lon>cygnss.x.values.min()) & (lon<cygnss.x.values.max()) & (lat>cygnss.y.values.min()) &\n",
    "        (lat<cygnss.y.values.max())).any():    \n",
    "        \n",
    "        sm_values= find_nearest(sm, lon, lat, cygnss.x.values, cygnss.y.values)\n",
    "        sms.append(sm_values)\n",
    "        times.append(time)    "
   ]
  }
 ],
 "metadata": {
  "kernelspec": {
   "display_name": "Python 3",
   "language": "python",
   "name": "python3"
  },
  "language_info": {
   "codemirror_mode": {
    "name": "ipython",
    "version": 3
   },
   "file_extension": ".py",
   "mimetype": "text/x-python",
   "name": "python",
   "nbconvert_exporter": "python",
   "pygments_lexer": "ipython3",
   "version": "3.7.9"
  }
 },
 "nbformat": 4,
 "nbformat_minor": 4
}
