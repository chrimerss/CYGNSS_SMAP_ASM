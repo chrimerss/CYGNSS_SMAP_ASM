{
 "cells": [
  {
   "cell_type": "markdown",
   "metadata": {},
   "source": [
    "# This notebook deals with site retrieval for soil moisture"
   ]
  },
  {
   "cell_type": "code",
   "execution_count": 1,
   "metadata": {},
   "outputs": [],
   "source": [
    "import h5py\n",
    "import numpy as np\n",
    "import matplotlib.pyplot as plt\n",
    "import os\n",
    "from glob import glob\n",
    "import pandas as pd\n",
    "from affine import Affine\n",
    "from functools import partial\n",
    "from multiprocessing import Pool\n",
    "from osgeo import gdal"
   ]
  },
  {
   "cell_type": "code",
   "execution_count": 2,
   "metadata": {},
   "outputs": [],
   "source": [
    "filePath = '/media/scratch/ZhiLi/SMAP/'\n",
    "fnames= glob(filePath+'*.h5')"
   ]
  },
  {
   "cell_type": "code",
   "execution_count": 3,
   "metadata": {},
   "outputs": [],
   "source": [
    "h5= h5py.File(np.random.choice(fnames),'r')"
   ]
  },
  {
   "cell_type": "code",
   "execution_count": 4,
   "metadata": {},
   "outputs": [
    {
     "data": {
      "text/plain": [
       "<KeysViewHDF5 ['Metadata', 'Soil_Moisture_Retrieval_Data_AM', 'Soil_Moisture_Retrieval_Data_PM']>"
      ]
     },
     "execution_count": 4,
     "metadata": {},
     "output_type": "execute_result"
    }
   ],
   "source": [
    "h5.keys()"
   ]
  },
  {
   "cell_type": "code",
   "execution_count": 5,
   "metadata": {},
   "outputs": [],
   "source": [
    "h5Lons= h5['Soil_Moisture_Retrieval_Data_AM/longitude'][:]\n",
    "h5Lats= h5['Soil_Moisture_Retrieval_Data_AM/latitude'][:]\n",
    "h5Lons[h5Lons<-200]=np.nan\n",
    "h5Lats[h5Lats<-200]=np.nan"
   ]
  },
  {
   "cell_type": "code",
   "execution_count": 7,
   "metadata": {},
   "outputs": [
    {
     "data": {
      "text/plain": [
       "(1624, 3856)"
      ]
     },
     "execution_count": 7,
     "metadata": {},
     "output_type": "execute_result"
    }
   ],
   "source": [
    "h5Lons.shape"
   ]
  },
  {
   "cell_type": "code",
   "execution_count": 6,
   "metadata": {},
   "outputs": [],
   "source": [
    "siteDF= pd.read_excel('/home/ZhiLi/soilmoisture/Mesonet_Stations_info.xlsx')"
   ]
  },
  {
   "cell_type": "markdown",
   "metadata": {},
   "source": [
    "## retrieve SMAP data (HDF5 basis)"
   ]
  },
  {
   "cell_type": "code",
   "execution_count": 10,
   "metadata": {},
   "outputs": [],
   "source": [
    "def retrieval(df, fname):\n",
    "    \n",
    "    h5= h5py.File(fname, 'r')\n",
    "    datetime= fname.split('/')[-1].split('_')[5]\n",
    "#     smAct= h5['Soil_Moisture_Retrieval_Data_AM/soil_moisture'][:]\n",
    "#     lonsAct= h5['Soil_Moisture_Retrieval_Data_AM/longitude'][:]\n",
    "#     latsAct= h5['Soil_Moisture_Retrieval_Data_AM/latitude'][:]\n",
    "    \n",
    "    smPas= h5['Soil_Moisture_Retrieval_Data_PM/soil_moisture_pm'][:]\n",
    "    lonsPas= h5['Soil_Moisture_Retrieval_Data_PM/longitude_pm'][:]\n",
    "    latsPas= h5['Soil_Moisture_Retrieval_Data_PM/latitude_pm'][:]\n",
    "    \n",
    "    soilDF= pd.DataFrame()\n",
    "    \n",
    "    for i in range(len(df)):\n",
    "        lon= df.elon.iloc[i]\n",
    "        lat= df.nlat.iloc[i]\n",
    "        \n",
    "#         row, col= getIndex(lonsAct, latsAct, lon, lat)\n",
    "        row, col= getIndex(lonsPas, latsPas, lon, lat)\n",
    "        _soil= smPas[row, col]\n",
    "#         if _soil<=-1:\n",
    "#             row, col= getIndex(lonsPas, latsPas, lon, lat)\n",
    "#             _soil= smPas[row, col]\n",
    "            \n",
    "        soilDF[df.stnm.iloc[i]]= _soil\n",
    "        \n",
    "    soilDF.index= [datetime]\n",
    "    return soilDF\n",
    "        \n",
    "    \n",
    "\n",
    "def getIndex(lons,lats, lon, lat):\n",
    "    col= np.where(abs(lons[0,:] - lon)== np.nanmin(abs(lons[0,:] - lon)))[0]\n",
    "    row= np.where(abs(lats[:,0] - lat) == np.nanmin(abs(lats[:, 0] - lat)))[0]\n",
    "                  \n",
    "    return row, col\n",
    "    "
   ]
  },
  {
   "cell_type": "code",
   "execution_count": 11,
   "metadata": {},
   "outputs": [],
   "source": [
    "thread= partial(retrieval, siteDF)"
   ]
  },
  {
   "cell_type": "code",
   "execution_count": 12,
   "metadata": {},
   "outputs": [],
   "source": [
    "def main(files):\n",
    "    pool= Pool(30)\n",
    "    with Pool(30) as pool:\n",
    "        results= pool.map(thread, files)\n",
    "    df= pd.DataFrame()\n",
    "    for result in results:\n",
    "        df= pd.concat([df, result])\n",
    "        \n",
    "    return df\n",
    "\n",
    "if __name__=='__main__':\n",
    "    df= main(fnames)"
   ]
  },
  {
   "cell_type": "code",
   "execution_count": 207,
   "metadata": {},
   "outputs": [],
   "source": [
    "df.to_csv('soilmoisture/SMAP_site.csv')"
   ]
  },
  {
   "cell_type": "code",
   "execution_count": 14,
   "metadata": {},
   "outputs": [],
   "source": [
    "df.to_csv('SMAP_site_PM.csv')"
   ]
  },
  {
   "cell_type": "markdown",
   "metadata": {},
   "source": [
    "## Retrieve NOAH model data (Grib basis)"
   ]
  },
  {
   "cell_type": "code",
   "execution_count": 8,
   "metadata": {},
   "outputs": [],
   "source": [
    "import pygrib"
   ]
  },
  {
   "cell_type": "code",
   "execution_count": 9,
   "metadata": {},
   "outputs": [],
   "source": [
    "fnames= glob('data/*.grb')"
   ]
  },
  {
   "cell_type": "code",
   "execution_count": 12,
   "metadata": {},
   "outputs": [],
   "source": [
    "gribs= pygrib.open(fnames[0])\n",
    "grib= gribs.message(4)\n",
    "lats, lons= grib.latlons()"
   ]
  },
  {
   "cell_type": "code",
   "execution_count": 14,
   "metadata": {},
   "outputs": [
    {
     "data": {
      "text/plain": [
       "(27, 69)"
      ]
     },
     "execution_count": 14,
     "metadata": {},
     "output_type": "execute_result"
    }
   ],
   "source": [
    "lats.shape"
   ]
  },
  {
   "cell_type": "code",
   "execution_count": 10,
   "metadata": {},
   "outputs": [
    {
     "data": {
      "text/plain": [
       "[1:86:86 (instant):regular_ll:depthBelowLandLayer:level None:fcst time 0 hrs:from 201504010000,\n",
       " 2:250:250 (instant):regular_ll:depthBelowLandLayer:level None:fcst time 0 hrs:from 201504010000,\n",
       " 3:86:86 (instant):regular_ll:depthBelowLandLayer:level None:fcst time 0 hrs:from 201504010000,\n",
       " 4:86:86 (instant):regular_ll:depthBelowLandLayer:level None:fcst time 0 hrs:from 201504010000,\n",
       " 5:86:86 (instant):regular_ll:depthBelowLandLayer:level None:fcst time 0 hrs:from 201504010000,\n",
       " 6:86:86 (instant):regular_ll:depthBelowLandLayer:level None:fcst time 0 hrs:from 201504010000,\n",
       " 7:86:86 (instant):regular_ll:depthBelowLandLayer:level None:fcst time 0 hrs:from 201504010000]"
      ]
     },
     "execution_count": 10,
     "metadata": {},
     "output_type": "execute_result"
    }
   ],
   "source": [
    "pygrib.open(fnames[0]).select()"
   ]
  },
  {
   "cell_type": "code",
   "execution_count": 166,
   "metadata": {},
   "outputs": [
    {
     "data": {
      "text/plain": [
       "33.900038719177246"
      ]
     },
     "execution_count": 166,
     "metadata": {},
     "output_type": "execute_result"
    }
   ],
   "source": [
    "pygrib.open(fnames[0]).message(4).values.max()"
   ]
  },
  {
   "cell_type": "code",
   "execution_count": 167,
   "metadata": {},
   "outputs": [],
   "source": [
    "def retrieve(df, fname):\n",
    "    try:\n",
    "        gribs= pygrib.open(fname)\n",
    "        grib= gribs.message(4)\n",
    "        lats, lons= grib.latlons()\n",
    "        arr= grib.values\n",
    "        soilDF= pd.DataFrame()\n",
    "        gribs.close()\n",
    "        datetime= fname.split('.')[1][1:]+fname.split('.')[2]\n",
    "\n",
    "        for i in range(len(df)):\n",
    "            lon= df.elon.iloc[i]\n",
    "            lat= df.nlat.iloc[i]\n",
    "\n",
    "            row, col= getIndex(lons, lats, lon, lat)\n",
    "\n",
    "            _soil= arr[row, col]\n",
    "\n",
    "            soilDF[df.stnm.iloc[i]]= _soil\n",
    "\n",
    "        soilDF.index= [pd.to_datetime(datetime, format='%Y%m%d%H%M')]\n",
    "        \n",
    "        return soilDF\n",
    "    \n",
    "    except OSError:\n",
    "        return fname\n",
    "    "
   ]
  },
  {
   "cell_type": "code",
   "execution_count": 168,
   "metadata": {},
   "outputs": [],
   "source": [
    "def main(files):\n",
    "    global siteDF\n",
    "    empty_files= []\n",
    "    thread= partial(retrieve, siteDF)\n",
    "    pool= Pool(35)\n",
    "    with Pool(35) as pool:\n",
    "        results= pool.map(thread, files)\n",
    "    df= pd.DataFrame()\n",
    "    for result in results:\n",
    "        if isinstance(result, pd.DataFrame):\n",
    "            df= pd.concat([df, result])\n",
    "        else:\n",
    "            empty_files.append(result)\n",
    "        \n",
    "    return (df, empty_files)\n",
    "\n",
    "if __name__=='__main__':\n",
    "    df, missingFiles= main(fnames)"
   ]
  },
  {
   "cell_type": "code",
   "execution_count": 170,
   "metadata": {},
   "outputs": [],
   "source": [
    "df.to_csv('Noah_site.csv')"
   ]
  },
  {
   "cell_type": "code",
   "execution_count": 154,
   "metadata": {},
   "outputs": [],
   "source": [
    "SMAP= pd.read_csv('SMAP_site.csv')"
   ]
  },
  {
   "cell_type": "code",
   "execution_count": 155,
   "metadata": {},
   "outputs": [],
   "source": [
    "Noah= pd.read_csv('Noah_site.csv')"
   ]
  },
  {
   "cell_type": "code",
   "execution_count": 169,
   "metadata": {},
   "outputs": [
    {
     "data": {
      "text/html": [
       "<div>\n",
       "<style scoped>\n",
       "    .dataframe tbody tr th:only-of-type {\n",
       "        vertical-align: middle;\n",
       "    }\n",
       "\n",
       "    .dataframe tbody tr th {\n",
       "        vertical-align: top;\n",
       "    }\n",
       "\n",
       "    .dataframe thead th {\n",
       "        text-align: right;\n",
       "    }\n",
       "</style>\n",
       "<table border=\"1\" class=\"dataframe\">\n",
       "  <thead>\n",
       "    <tr style=\"text-align: right;\">\n",
       "      <th></th>\n",
       "      <th>110</th>\n",
       "      <th>1</th>\n",
       "      <th>2</th>\n",
       "      <th>116</th>\n",
       "      <th>135</th>\n",
       "      <th>111</th>\n",
       "      <th>126</th>\n",
       "      <th>6</th>\n",
       "      <th>8</th>\n",
       "      <th>9</th>\n",
       "      <th>...</th>\n",
       "      <th>99</th>\n",
       "      <th>100</th>\n",
       "      <th>101</th>\n",
       "      <th>102</th>\n",
       "      <th>132</th>\n",
       "      <th>104</th>\n",
       "      <th>105</th>\n",
       "      <th>106</th>\n",
       "      <th>107</th>\n",
       "      <th>108</th>\n",
       "    </tr>\n",
       "  </thead>\n",
       "  <tbody>\n",
       "    <tr>\n",
       "      <td>2015-04-01 00:00:00</td>\n",
       "      <td>16.610000</td>\n",
       "      <td>20.460097</td>\n",
       "      <td>21.880019</td>\n",
       "      <td>23.469863</td>\n",
       "      <td>20.819961</td>\n",
       "      <td>16.819961</td>\n",
       "      <td>19.830215</td>\n",
       "      <td>15.759902</td>\n",
       "      <td>20.409804</td>\n",
       "      <td>21.339980</td>\n",
       "      <td>...</td>\n",
       "      <td>21.810195</td>\n",
       "      <td>18.150039</td>\n",
       "      <td>21.139785</td>\n",
       "      <td>23.980117</td>\n",
       "      <td>20.440078</td>\n",
       "      <td>27.560195</td>\n",
       "      <td>23.980117</td>\n",
       "      <td>27.480117</td>\n",
       "      <td>16.139785</td>\n",
       "      <td>18.650039</td>\n",
       "    </tr>\n",
       "    <tr>\n",
       "      <td>2015-04-01 01:00:00</td>\n",
       "      <td>16.610000</td>\n",
       "      <td>20.469863</td>\n",
       "      <td>22.100234</td>\n",
       "      <td>23.469863</td>\n",
       "      <td>20.830215</td>\n",
       "      <td>16.819961</td>\n",
       "      <td>19.839980</td>\n",
       "      <td>15.770156</td>\n",
       "      <td>20.420058</td>\n",
       "      <td>21.350234</td>\n",
       "      <td>...</td>\n",
       "      <td>21.830215</td>\n",
       "      <td>18.159804</td>\n",
       "      <td>21.150039</td>\n",
       "      <td>23.989882</td>\n",
       "      <td>20.460097</td>\n",
       "      <td>27.589980</td>\n",
       "      <td>24.009902</td>\n",
       "      <td>27.509902</td>\n",
       "      <td>16.150039</td>\n",
       "      <td>18.659804</td>\n",
       "    </tr>\n",
       "    <tr>\n",
       "      <td>2015-04-01 02:00:00</td>\n",
       "      <td>16.619765</td>\n",
       "      <td>20.489882</td>\n",
       "      <td>29.580215</td>\n",
       "      <td>23.480117</td>\n",
       "      <td>20.839980</td>\n",
       "      <td>16.830215</td>\n",
       "      <td>19.850234</td>\n",
       "      <td>15.779922</td>\n",
       "      <td>20.420058</td>\n",
       "      <td>21.969863</td>\n",
       "      <td>...</td>\n",
       "      <td>21.839980</td>\n",
       "      <td>18.330215</td>\n",
       "      <td>21.170058</td>\n",
       "      <td>25.299941</td>\n",
       "      <td>20.500136</td>\n",
       "      <td>27.610000</td>\n",
       "      <td>24.029922</td>\n",
       "      <td>27.529922</td>\n",
       "      <td>16.159804</td>\n",
       "      <td>18.670058</td>\n",
       "    </tr>\n",
       "    <tr>\n",
       "      <td>2015-04-01 03:00:00</td>\n",
       "      <td>16.659804</td>\n",
       "      <td>20.520156</td>\n",
       "      <td>36.339980</td>\n",
       "      <td>23.480117</td>\n",
       "      <td>20.850234</td>\n",
       "      <td>16.909804</td>\n",
       "      <td>19.860000</td>\n",
       "      <td>15.779922</td>\n",
       "      <td>20.420058</td>\n",
       "      <td>28.949843</td>\n",
       "      <td>...</td>\n",
       "      <td>21.850234</td>\n",
       "      <td>20.279922</td>\n",
       "      <td>21.179824</td>\n",
       "      <td>32.909804</td>\n",
       "      <td>20.509902</td>\n",
       "      <td>27.630019</td>\n",
       "      <td>24.049941</td>\n",
       "      <td>27.549941</td>\n",
       "      <td>16.159804</td>\n",
       "      <td>18.679824</td>\n",
       "    </tr>\n",
       "    <tr>\n",
       "      <td>2015-04-01 04:00:00</td>\n",
       "      <td>19.300429</td>\n",
       "      <td>20.539687</td>\n",
       "      <td>35.159804</td>\n",
       "      <td>23.489882</td>\n",
       "      <td>20.860000</td>\n",
       "      <td>19.770156</td>\n",
       "      <td>19.879531</td>\n",
       "      <td>15.789687</td>\n",
       "      <td>20.419570</td>\n",
       "      <td>28.489882</td>\n",
       "      <td>...</td>\n",
       "      <td>21.940078</td>\n",
       "      <td>22.800429</td>\n",
       "      <td>21.260390</td>\n",
       "      <td>32.890273</td>\n",
       "      <td>20.539687</td>\n",
       "      <td>27.650039</td>\n",
       "      <td>24.069961</td>\n",
       "      <td>27.569961</td>\n",
       "      <td>16.169570</td>\n",
       "      <td>18.690078</td>\n",
       "    </tr>\n",
       "  </tbody>\n",
       "</table>\n",
       "<p>5 rows × 115 columns</p>\n",
       "</div>"
      ],
      "text/plain": [
       "                           110        1          2          116        135  \\\n",
       "2015-04-01 00:00:00  16.610000  20.460097  21.880019  23.469863  20.819961   \n",
       "2015-04-01 01:00:00  16.610000  20.469863  22.100234  23.469863  20.830215   \n",
       "2015-04-01 02:00:00  16.619765  20.489882  29.580215  23.480117  20.839980   \n",
       "2015-04-01 03:00:00  16.659804  20.520156  36.339980  23.480117  20.850234   \n",
       "2015-04-01 04:00:00  19.300429  20.539687  35.159804  23.489882  20.860000   \n",
       "\n",
       "                           111        126        6          8          9    \\\n",
       "2015-04-01 00:00:00  16.819961  19.830215  15.759902  20.409804  21.339980   \n",
       "2015-04-01 01:00:00  16.819961  19.839980  15.770156  20.420058  21.350234   \n",
       "2015-04-01 02:00:00  16.830215  19.850234  15.779922  20.420058  21.969863   \n",
       "2015-04-01 03:00:00  16.909804  19.860000  15.779922  20.420058  28.949843   \n",
       "2015-04-01 04:00:00  19.770156  19.879531  15.789687  20.419570  28.489882   \n",
       "\n",
       "                     ...        99         100        101        102  \\\n",
       "2015-04-01 00:00:00  ...  21.810195  18.150039  21.139785  23.980117   \n",
       "2015-04-01 01:00:00  ...  21.830215  18.159804  21.150039  23.989882   \n",
       "2015-04-01 02:00:00  ...  21.839980  18.330215  21.170058  25.299941   \n",
       "2015-04-01 03:00:00  ...  21.850234  20.279922  21.179824  32.909804   \n",
       "2015-04-01 04:00:00  ...  21.940078  22.800429  21.260390  32.890273   \n",
       "\n",
       "                           132        104        105        106        107  \\\n",
       "2015-04-01 00:00:00  20.440078  27.560195  23.980117  27.480117  16.139785   \n",
       "2015-04-01 01:00:00  20.460097  27.589980  24.009902  27.509902  16.150039   \n",
       "2015-04-01 02:00:00  20.500136  27.610000  24.029922  27.529922  16.159804   \n",
       "2015-04-01 03:00:00  20.509902  27.630019  24.049941  27.549941  16.159804   \n",
       "2015-04-01 04:00:00  20.539687  27.650039  24.069961  27.569961  16.169570   \n",
       "\n",
       "                           108  \n",
       "2015-04-01 00:00:00  18.650039  \n",
       "2015-04-01 01:00:00  18.659804  \n",
       "2015-04-01 02:00:00  18.670058  \n",
       "2015-04-01 03:00:00  18.679824  \n",
       "2015-04-01 04:00:00  18.690078  \n",
       "\n",
       "[5 rows x 115 columns]"
      ]
     },
     "execution_count": 169,
     "metadata": {},
     "output_type": "execute_result"
    }
   ],
   "source": [
    "df.head()"
   ]
  },
  {
   "cell_type": "code",
   "execution_count": 157,
   "metadata": {},
   "outputs": [
    {
     "data": {
      "text/html": [
       "<div>\n",
       "<style scoped>\n",
       "    .dataframe tbody tr th:only-of-type {\n",
       "        vertical-align: middle;\n",
       "    }\n",
       "\n",
       "    .dataframe tbody tr th {\n",
       "        vertical-align: top;\n",
       "    }\n",
       "\n",
       "    .dataframe thead th {\n",
       "        text-align: right;\n",
       "    }\n",
       "</style>\n",
       "<table border=\"1\" class=\"dataframe\">\n",
       "  <thead>\n",
       "    <tr style=\"text-align: right;\">\n",
       "      <th></th>\n",
       "      <th>Unnamed: 0</th>\n",
       "      <th>110</th>\n",
       "      <th>1</th>\n",
       "      <th>2</th>\n",
       "      <th>116</th>\n",
       "      <th>135</th>\n",
       "      <th>111</th>\n",
       "      <th>126</th>\n",
       "      <th>6</th>\n",
       "      <th>8</th>\n",
       "      <th>...</th>\n",
       "      <th>99</th>\n",
       "      <th>100</th>\n",
       "      <th>101</th>\n",
       "      <th>102</th>\n",
       "      <th>132</th>\n",
       "      <th>104</th>\n",
       "      <th>105</th>\n",
       "      <th>106</th>\n",
       "      <th>107</th>\n",
       "      <th>108</th>\n",
       "    </tr>\n",
       "  </thead>\n",
       "  <tbody>\n",
       "    <tr>\n",
       "      <td>0</td>\n",
       "      <td>20191201</td>\n",
       "      <td>0.223894</td>\n",
       "      <td>0.355768</td>\n",
       "      <td>0.153311</td>\n",
       "      <td>0.182192</td>\n",
       "      <td>0.380909</td>\n",
       "      <td>0.187627</td>\n",
       "      <td>0.296869</td>\n",
       "      <td>0.164766</td>\n",
       "      <td>0.165373</td>\n",
       "      <td>...</td>\n",
       "      <td>0.273996</td>\n",
       "      <td>0.192414</td>\n",
       "      <td>0.223894</td>\n",
       "      <td>0.182192</td>\n",
       "      <td>0.428555</td>\n",
       "      <td>0.464628</td>\n",
       "      <td>0.421116</td>\n",
       "      <td>0.461539</td>\n",
       "      <td>0.153311</td>\n",
       "      <td>0.358597</td>\n",
       "    </tr>\n",
       "    <tr>\n",
       "      <td>1</td>\n",
       "      <td>20150703</td>\n",
       "      <td>0.139557</td>\n",
       "      <td>0.223116</td>\n",
       "      <td>0.126063</td>\n",
       "      <td>0.126614</td>\n",
       "      <td>0.241755</td>\n",
       "      <td>0.139180</td>\n",
       "      <td>0.220274</td>\n",
       "      <td>0.133811</td>\n",
       "      <td>0.076322</td>\n",
       "      <td>...</td>\n",
       "      <td>0.144098</td>\n",
       "      <td>0.134915</td>\n",
       "      <td>0.139557</td>\n",
       "      <td>0.126614</td>\n",
       "      <td>0.264406</td>\n",
       "      <td>0.292729</td>\n",
       "      <td>0.210101</td>\n",
       "      <td>0.307210</td>\n",
       "      <td>0.126063</td>\n",
       "      <td>0.250518</td>\n",
       "    </tr>\n",
       "    <tr>\n",
       "      <td>2</td>\n",
       "      <td>20190515</td>\n",
       "      <td>0.299477</td>\n",
       "      <td>0.426432</td>\n",
       "      <td>0.183355</td>\n",
       "      <td>0.253759</td>\n",
       "      <td>0.367943</td>\n",
       "      <td>0.264975</td>\n",
       "      <td>0.373601</td>\n",
       "      <td>0.161254</td>\n",
       "      <td>0.162266</td>\n",
       "      <td>...</td>\n",
       "      <td>0.389624</td>\n",
       "      <td>0.266697</td>\n",
       "      <td>0.299477</td>\n",
       "      <td>0.253759</td>\n",
       "      <td>0.406057</td>\n",
       "      <td>0.344711</td>\n",
       "      <td>0.401537</td>\n",
       "      <td>0.329570</td>\n",
       "      <td>0.183355</td>\n",
       "      <td>0.394122</td>\n",
       "    </tr>\n",
       "    <tr>\n",
       "      <td>3</td>\n",
       "      <td>20190323</td>\n",
       "      <td>0.207803</td>\n",
       "      <td>0.289247</td>\n",
       "      <td>0.160307</td>\n",
       "      <td>0.195456</td>\n",
       "      <td>-9999.000000</td>\n",
       "      <td>0.204062</td>\n",
       "      <td>0.277960</td>\n",
       "      <td>0.132041</td>\n",
       "      <td>0.154042</td>\n",
       "      <td>...</td>\n",
       "      <td>0.222501</td>\n",
       "      <td>0.177907</td>\n",
       "      <td>0.282810</td>\n",
       "      <td>0.202363</td>\n",
       "      <td>-9999.000000</td>\n",
       "      <td>0.269637</td>\n",
       "      <td>-9999.000000</td>\n",
       "      <td>0.263933</td>\n",
       "      <td>0.141931</td>\n",
       "      <td>-9999.000000</td>\n",
       "    </tr>\n",
       "    <tr>\n",
       "      <td>4</td>\n",
       "      <td>20160813</td>\n",
       "      <td>0.216485</td>\n",
       "      <td>0.148873</td>\n",
       "      <td>0.211928</td>\n",
       "      <td>0.200590</td>\n",
       "      <td>-9999.000000</td>\n",
       "      <td>0.228069</td>\n",
       "      <td>0.156053</td>\n",
       "      <td>0.259724</td>\n",
       "      <td>0.354437</td>\n",
       "      <td>...</td>\n",
       "      <td>0.103026</td>\n",
       "      <td>0.200271</td>\n",
       "      <td>0.216485</td>\n",
       "      <td>0.200590</td>\n",
       "      <td>-9999.000000</td>\n",
       "      <td>-9999.000000</td>\n",
       "      <td>-9999.000000</td>\n",
       "      <td>-9999.000000</td>\n",
       "      <td>0.211928</td>\n",
       "      <td>-9999.000000</td>\n",
       "    </tr>\n",
       "  </tbody>\n",
       "</table>\n",
       "<p>5 rows × 116 columns</p>\n",
       "</div>"
      ],
      "text/plain": [
       "   Unnamed: 0       110         1         2       116          135       111  \\\n",
       "0    20191201  0.223894  0.355768  0.153311  0.182192     0.380909  0.187627   \n",
       "1    20150703  0.139557  0.223116  0.126063  0.126614     0.241755  0.139180   \n",
       "2    20190515  0.299477  0.426432  0.183355  0.253759     0.367943  0.264975   \n",
       "3    20190323  0.207803  0.289247  0.160307  0.195456 -9999.000000  0.204062   \n",
       "4    20160813  0.216485  0.148873  0.211928  0.200590 -9999.000000  0.228069   \n",
       "\n",
       "        126         6         8  ...        99       100       101       102  \\\n",
       "0  0.296869  0.164766  0.165373  ...  0.273996  0.192414  0.223894  0.182192   \n",
       "1  0.220274  0.133811  0.076322  ...  0.144098  0.134915  0.139557  0.126614   \n",
       "2  0.373601  0.161254  0.162266  ...  0.389624  0.266697  0.299477  0.253759   \n",
       "3  0.277960  0.132041  0.154042  ...  0.222501  0.177907  0.282810  0.202363   \n",
       "4  0.156053  0.259724  0.354437  ...  0.103026  0.200271  0.216485  0.200590   \n",
       "\n",
       "           132          104          105          106       107          108  \n",
       "0     0.428555     0.464628     0.421116     0.461539  0.153311     0.358597  \n",
       "1     0.264406     0.292729     0.210101     0.307210  0.126063     0.250518  \n",
       "2     0.406057     0.344711     0.401537     0.329570  0.183355     0.394122  \n",
       "3 -9999.000000     0.269637 -9999.000000     0.263933  0.141931 -9999.000000  \n",
       "4 -9999.000000 -9999.000000 -9999.000000 -9999.000000  0.211928 -9999.000000  \n",
       "\n",
       "[5 rows x 116 columns]"
      ]
     },
     "execution_count": 157,
     "metadata": {},
     "output_type": "execute_result"
    }
   ],
   "source": [
    "SMAP.head()"
   ]
  },
  {
   "cell_type": "markdown",
   "metadata": {},
   "source": [
    "# grid SMAP data to raster"
   ]
  },
  {
   "cell_type": "code",
   "execution_count": 2,
   "metadata": {},
   "outputs": [],
   "source": [
    "filePath = '/media/scratch/ZhiLi/SMAP/'\n",
    "fnames= glob(filePath+'*.h5')"
   ]
  },
  {
   "cell_type": "code",
   "execution_count": 9,
   "metadata": {},
   "outputs": [
    {
     "data": {
      "text/plain": [
       "'/media/scratch/ZhiLi/SMAP/SMAP_L3_SM_P_E_20200131_R16515_001.h5'"
      ]
     },
     "execution_count": 9,
     "metadata": {},
     "output_type": "execute_result"
    }
   ],
   "source": [
    "sorted(fnames)[-1]"
   ]
  },
  {
   "cell_type": "code",
   "execution_count": 8,
   "metadata": {},
   "outputs": [],
   "source": [
    "periods= pd.date_range('20150401', '20190702', freq='D')"
   ]
  },
  {
   "cell_type": "code",
   "execution_count": 10,
   "metadata": {},
   "outputs": [],
   "source": [
    "def arr2raster(dst, arr, lons, lon_diff, lats, lat_diff):\n",
    "    cols= arr.shape[1]\n",
    "    rows= arr.shape[0]\n",
    "    originX= lons[0]\n",
    "    originY= lats[-1]\n",
    "    driver= gdal.GetDriverByName('GTiff')\n",
    "    outdata= driver.Create(dst, cols, rows, gdal.GDT_Float32)\n",
    "    outdata.SetGeoTransform((originX, lon_diff, 0, originY, 0, -lat_diff))\n",
    "    outdata.SetProjection('EPSG:4326')\n",
    "    outdata.GetRasterBand(1).WriteArray(arr)"
   ]
  },
  {
   "cell_type": "code",
   "execution_count": 11,
   "metadata": {},
   "outputs": [],
   "source": [
    "os.mkdir('/media/scratch/ZhiLi/SMAP_AM')"
   ]
  },
  {
   "cell_type": "code",
   "execution_count": 61,
   "metadata": {},
   "outputs": [],
   "source": [
    "def grid(time, mode='AM'):\n",
    "    fnameMatch= '/media/scratch/ZhiLi/SMAP/SMAP_L3_SM_P_E_%s_R16510_001.h5'%time.strftime('%Y%m%d')\n",
    "    dst= '/media/scratch/ZhiLi/SMAP_AM/%s.tif'%time.strftime('%Y%m%d')\n",
    "    with h5py.File(fnameMatch,'r') as h5:\n",
    "        if mode=='AM':\n",
    "            lons= h5['Soil_Moisture_Retrieval_Data_AM/soil_moisture'][:]\n",
    "            lats= h5['Soil_Moisture_Retrieval_Data_AM/longitude'][:]\n",
    "            soil= h5['Soil_Moisture_Retrieval_Data_PM/latitude_pm'][:]\n",
    "        elif mode=='PM':\n",
    "            lons= h5['Soil_Moisture_Retrieval_Data_PM/longitude_pm'][:]\n",
    "            lats= h5['Soil_Moisture_Retrieval_Data_PM/latitude_pm'][:]\n",
    "            soil= h5['Soil_Moisture_Retrieval_Data_PM/soil_moisture_pm'][:]\n",
    "    return lons, lats, soil\n",
    "    lon_diff= lons[0,0]- lons[0,1]\n",
    "    lat_diff= lats[0,0]- lats[1,0]\n",
    "    arr2raster(dst, soil, lons[0,:], lon_diff, lats[:,0], lat_diff)\n",
    "#     os.system('gdal_translate -tr 0.125 -0.125 -projwin -103 37 -94.375 33.625 -r nearst %s %s'%(dst, dst))"
   ]
  },
  {
   "cell_type": "code",
   "execution_count": 62,
   "metadata": {},
   "outputs": [],
   "source": [
    "lons, lats, soil= grid(periods[0])"
   ]
  },
  {
   "cell_type": "code",
   "execution_count": 32,
   "metadata": {},
   "outputs": [
    {
     "data": {
      "text/plain": [
       "Timestamp('2015-04-01 00:00:00', freq='D')"
      ]
     },
     "execution_count": 32,
     "metadata": {},
     "output_type": "execute_result"
    }
   ],
   "source": [
    "periods[0]"
   ]
  },
  {
   "cell_type": "code",
   "execution_count": 54,
   "metadata": {},
   "outputs": [],
   "source": [
    "raster= gdal.Open('/media/scratch/ZhiLi/SMAP_AM/20150401.tif')"
   ]
  },
  {
   "cell_type": "code",
   "execution_count": 55,
   "metadata": {},
   "outputs": [],
   "source": [
    "arr= raster.ReadAsArray()"
   ]
  },
  {
   "cell_type": "code",
   "execution_count": 56,
   "metadata": {},
   "outputs": [
    {
     "data": {
      "text/plain": [
       "(6, 1624, 3856)"
      ]
     },
     "execution_count": 56,
     "metadata": {},
     "output_type": "execute_result"
    }
   ],
   "source": [
    "arr.shape"
   ]
  },
  {
   "cell_type": "code",
   "execution_count": 57,
   "metadata": {},
   "outputs": [
    {
     "data": {
      "text/plain": [
       "(-9999.0, 0.0, 0.0, -179.9533233642578, 0.0, -0.0)"
      ]
     },
     "execution_count": 57,
     "metadata": {},
     "output_type": "execute_result"
    }
   ],
   "source": [
    "raster.GetGeoTransform()"
   ]
  }
 ],
 "metadata": {
  "kernelspec": {
   "display_name": "Python 3",
   "language": "python",
   "name": "python3"
  },
  "language_info": {
   "codemirror_mode": {
    "name": "ipython",
    "version": 3
   },
   "file_extension": ".py",
   "mimetype": "text/x-python",
   "name": "python",
   "nbconvert_exporter": "python",
   "pygments_lexer": "ipython3",
   "version": "3.9.1"
  }
 },
 "nbformat": 4,
 "nbformat_minor": 4
}
