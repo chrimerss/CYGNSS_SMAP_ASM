{
 "cells": [
  {
   "cell_type": "code",
   "execution_count": 77,
   "metadata": {},
   "outputs": [],
   "source": [
    "smap= pd.read_csv('SMAP_site.csv')"
   ]
  },
  {
   "cell_type": "code",
   "execution_count": 78,
   "metadata": {},
   "outputs": [],
   "source": [
    "smap.set_index('Unnamed: 0', inplace=True)\n",
    "smap.index= pd.to_datetime(smap.index, format='%Y%m%d')\n",
    "smap= smap.sort_index()\n",
    "smap[smap==-9999]= np.nan\n",
    "smap=smap.loc[:pd.to_datetime('20190702')]\n",
    "# smap.apply(lambda x: len(x[~pd.isna(x)])/len(smap), axis=0).argmax()"
   ]
  },
  {
   "cell_type": "code",
   "execution_count": 27,
   "metadata": {},
   "outputs": [
    {
     "data": {
      "text/plain": [
       "Unnamed: 0\n",
       "2015-04-01    0.088007\n",
       "2015-04-02    0.107143\n",
       "2015-04-03         NaN\n",
       "2015-04-04    0.065996\n",
       "2015-04-05    0.060645\n",
       "                ...   \n",
       "2020-01-26    0.169054\n",
       "2020-01-28    0.156664\n",
       "2020-01-29    0.161368\n",
       "2020-01-30    0.232975\n",
       "2020-01-31         NaN\n",
       "Name: 6, Length: 1729, dtype: float64"
      ]
     },
     "execution_count": 27,
     "metadata": {},
     "output_type": "execute_result"
    }
   ],
   "source": [
    "smap['6']"
   ]
  },
  {
   "cell_type": "code",
   "execution_count": 84,
   "metadata": {},
   "outputs": [],
   "source": [
    "ilocs= smap[pd.isna(smap['6'])].index"
   ]
  },
  {
   "cell_type": "code",
   "execution_count": 32,
   "metadata": {},
   "outputs": [],
   "source": [
    "import datetime"
   ]
  },
  {
   "cell_type": "code",
   "execution_count": 34,
   "metadata": {},
   "outputs": [
    {
     "data": {
      "text/plain": [
       "datetime.timedelta(1)"
      ]
     },
     "execution_count": 34,
     "metadata": {},
     "output_type": "execute_result"
    }
   ],
   "source": [
    "datetime.timedelta(days=1)"
   ]
  },
  {
   "cell_type": "code",
   "execution_count": 56,
   "metadata": {},
   "outputs": [],
   "source": [
    "noah= pd.read_csv('Noah_site.csv')"
   ]
  },
  {
   "cell_type": "code",
   "execution_count": 57,
   "metadata": {},
   "outputs": [],
   "source": [
    "noah.set_index('Unnamed: 0', inplace=True)\n",
    "noah.index= pd.to_datetime(noah.index, format='%Y%m%d %H:%M:%S')\n",
    "noah= noah.sort_index()"
   ]
  },
  {
   "cell_type": "code",
   "execution_count": 59,
   "metadata": {},
   "outputs": [
    {
     "data": {
      "text/plain": [
       "4.840155601501465"
      ]
     },
     "execution_count": 59,
     "metadata": {},
     "output_type": "execute_result"
    }
   ],
   "source": [
    "noah.min().min()"
   ]
  },
  {
   "cell_type": "code",
   "execution_count": null,
   "metadata": {},
   "outputs": [],
   "source": [
    "noah= pd.read_csv('mesonet.csv')"
   ]
  },
  {
   "cell_type": "code",
   "execution_count": 85,
   "metadata": {},
   "outputs": [],
   "source": [
    "from_dates=[]\n",
    "to_dates= []\n",
    "first=True\n",
    "for i in range(len(ilocs)-1):\n",
    "    if first:\n",
    "        from_date=smap.index[0]\n",
    "        to_date=ilocs[0] - datetime.timedelta(days=1)\n",
    "        first=False\n",
    "    else:\n",
    "        from_date= ilocs[i] + datetime.timedelta(days=1)\n",
    "        to_date= ilocs[i+1]- datetime.timedelta(days=1)\n",
    "    from_dates.append(from_date)\n",
    "    to_dates.append(to_date)\n",
    "\n",
    "from_dates.append(pd.to_datetime('20150401'))\n",
    "to_dates.append(pd.to_datetime('20190702'))\n",
    "from_dates.append(pd.to_datetime('20150401'))\n",
    "to_dates.append(pd.to_datetime('20190702'))"
   ]
  },
  {
   "cell_type": "code",
   "execution_count": 86,
   "metadata": {},
   "outputs": [],
   "source": [
    "import altair as alt\n",
    "data = pd.DataFrame()\n",
    "data['from']= from_dates\n",
    "data['to']= to_dates\n",
    "data['product']= 'smap'\n",
    "data['product'].iloc[-1]= 'Mesonet'\n",
    "data['product'].iloc[-2]= 'Noah'"
   ]
  },
  {
   "cell_type": "code",
   "execution_count": 43,
   "metadata": {},
   "outputs": [
    {
     "data": {
      "text/plain": [
       "RendererRegistry.enable('jupyterlab')"
      ]
     },
     "execution_count": 43,
     "metadata": {},
     "output_type": "execute_result"
    }
   ],
   "source": [
    "alt.renderers.enable('jupyterlab')"
   ]
  },
  {
   "cell_type": "code",
   "execution_count": 83,
   "metadata": {},
   "outputs": [
    {
     "data": {
      "text/html": [
       "<div>\n",
       "<style scoped>\n",
       "    .dataframe tbody tr th:only-of-type {\n",
       "        vertical-align: middle;\n",
       "    }\n",
       "\n",
       "    .dataframe tbody tr th {\n",
       "        vertical-align: top;\n",
       "    }\n",
       "\n",
       "    .dataframe thead th {\n",
       "        text-align: right;\n",
       "    }\n",
       "</style>\n",
       "<table border=\"1\" class=\"dataframe\">\n",
       "  <thead>\n",
       "    <tr style=\"text-align: right;\">\n",
       "      <th></th>\n",
       "      <th>from</th>\n",
       "      <th>to</th>\n",
       "      <th>product</th>\n",
       "    </tr>\n",
       "  </thead>\n",
       "  <tbody>\n",
       "    <tr>\n",
       "      <td>0</td>\n",
       "      <td>2015-04-01</td>\n",
       "      <td>2015-04-02</td>\n",
       "      <td>smap</td>\n",
       "    </tr>\n",
       "    <tr>\n",
       "      <td>1</td>\n",
       "      <td>2015-04-12</td>\n",
       "      <td>2015-04-18</td>\n",
       "      <td>smap</td>\n",
       "    </tr>\n",
       "    <tr>\n",
       "      <td>2</td>\n",
       "      <td>2015-04-20</td>\n",
       "      <td>2015-05-11</td>\n",
       "      <td>smap</td>\n",
       "    </tr>\n",
       "    <tr>\n",
       "      <td>3</td>\n",
       "      <td>2015-05-13</td>\n",
       "      <td>2015-05-13</td>\n",
       "      <td>smap</td>\n",
       "    </tr>\n",
       "    <tr>\n",
       "      <td>4</td>\n",
       "      <td>2015-05-15</td>\n",
       "      <td>2015-05-14</td>\n",
       "      <td>smap</td>\n",
       "    </tr>\n",
       "    <tr>\n",
       "      <td>...</td>\n",
       "      <td>...</td>\n",
       "      <td>...</td>\n",
       "      <td>...</td>\n",
       "    </tr>\n",
       "    <tr>\n",
       "      <td>215</td>\n",
       "      <td>2020-01-19</td>\n",
       "      <td>2020-01-22</td>\n",
       "      <td>smap</td>\n",
       "    </tr>\n",
       "    <tr>\n",
       "      <td>216</td>\n",
       "      <td>2020-01-24</td>\n",
       "      <td>2020-01-23</td>\n",
       "      <td>smap</td>\n",
       "    </tr>\n",
       "    <tr>\n",
       "      <td>217</td>\n",
       "      <td>2020-01-25</td>\n",
       "      <td>2020-01-30</td>\n",
       "      <td>smap</td>\n",
       "    </tr>\n",
       "    <tr>\n",
       "      <td>218</td>\n",
       "      <td>2015-04-01</td>\n",
       "      <td>2019-07-02</td>\n",
       "      <td>Noah</td>\n",
       "    </tr>\n",
       "    <tr>\n",
       "      <td>219</td>\n",
       "      <td>2015-04-01</td>\n",
       "      <td>2019-07-02</td>\n",
       "      <td>Mesonet</td>\n",
       "    </tr>\n",
       "  </tbody>\n",
       "</table>\n",
       "<p>220 rows × 3 columns</p>\n",
       "</div>"
      ],
      "text/plain": [
       "          from         to  product\n",
       "0   2015-04-01 2015-04-02     smap\n",
       "1   2015-04-12 2015-04-18     smap\n",
       "2   2015-04-20 2015-05-11     smap\n",
       "3   2015-05-13 2015-05-13     smap\n",
       "4   2015-05-15 2015-05-14     smap\n",
       "..         ...        ...      ...\n",
       "215 2020-01-19 2020-01-22     smap\n",
       "216 2020-01-24 2020-01-23     smap\n",
       "217 2020-01-25 2020-01-30     smap\n",
       "218 2015-04-01 2019-07-02     Noah\n",
       "219 2015-04-01 2019-07-02  Mesonet\n",
       "\n",
       "[220 rows x 3 columns]"
      ]
     },
     "execution_count": 83,
     "metadata": {},
     "output_type": "execute_result"
    }
   ],
   "source": [
    "data"
   ]
  },
  {
   "cell_type": "code",
   "execution_count": 106,
   "metadata": {},
   "outputs": [
    {
     "data": {
      "application/vnd.vegalite.v4+json": {
       "$schema": "https://vega.github.io/schema/vega-lite/v4.8.1.json",
       "config": {
        "axis": {
         "labelFontSize": 15,
         "title": null
        },
        "legend": {
         "labelFontSize": 20
        },
        "title": {},
        "view": {
         "continuousHeight": 300,
         "continuousWidth": 400
        }
       },
       "data": {
        "name": "data-1ac39ccc46bda0c1687a78ca074042ac"
       },
       "datasets": {
        "data-1ac39ccc46bda0c1687a78ca074042ac": [
         {
          "from": "2015-04-01T00:00:00",
          "product": "smap",
          "to": "2015-04-02T00:00:00"
         },
         {
          "from": "2015-04-12T00:00:00",
          "product": "smap",
          "to": "2015-04-18T00:00:00"
         },
         {
          "from": "2015-04-20T00:00:00",
          "product": "smap",
          "to": "2015-05-11T00:00:00"
         },
         {
          "from": "2015-05-13T00:00:00",
          "product": "smap",
          "to": "2015-05-13T00:00:00"
         },
         {
          "from": "2015-05-15T00:00:00",
          "product": "smap",
          "to": "2015-05-14T00:00:00"
         },
         {
          "from": "2015-05-16T00:00:00",
          "product": "smap",
          "to": "2015-06-15T00:00:00"
         },
         {
          "from": "2015-06-17T00:00:00",
          "product": "smap",
          "to": "2015-06-16T00:00:00"
         },
         {
          "from": "2015-06-18T00:00:00",
          "product": "smap",
          "to": "2015-06-18T00:00:00"
         },
         {
          "from": "2015-06-20T00:00:00",
          "product": "smap",
          "to": "2015-07-07T00:00:00"
         },
         {
          "from": "2015-07-09T00:00:00",
          "product": "smap",
          "to": "2015-07-15T00:00:00"
         },
         {
          "from": "2015-07-17T00:00:00",
          "product": "smap",
          "to": "2015-07-23T00:00:00"
         },
         {
          "from": "2015-07-25T00:00:00",
          "product": "smap",
          "to": "2015-07-31T00:00:00"
         },
         {
          "from": "2015-08-02T00:00:00",
          "product": "smap",
          "to": "2015-08-03T00:00:00"
         },
         {
          "from": "2015-08-05T00:00:00",
          "product": "smap",
          "to": "2015-08-08T00:00:00"
         },
         {
          "from": "2015-08-10T00:00:00",
          "product": "smap",
          "to": "2015-08-16T00:00:00"
         },
         {
          "from": "2015-08-18T00:00:00",
          "product": "smap",
          "to": "2015-08-24T00:00:00"
         },
         {
          "from": "2015-08-26T00:00:00",
          "product": "smap",
          "to": "2015-09-30T00:00:00"
         },
         {
          "from": "2015-10-02T00:00:00",
          "product": "smap",
          "to": "2015-10-02T00:00:00"
         },
         {
          "from": "2015-10-04T00:00:00",
          "product": "smap",
          "to": "2015-10-04T00:00:00"
         },
         {
          "from": "2015-10-06T00:00:00",
          "product": "smap",
          "to": "2015-10-08T00:00:00"
         },
         {
          "from": "2015-10-10T00:00:00",
          "product": "smap",
          "to": "2015-10-12T00:00:00"
         },
         {
          "from": "2015-10-14T00:00:00",
          "product": "smap",
          "to": "2015-10-16T00:00:00"
         },
         {
          "from": "2015-10-18T00:00:00",
          "product": "smap",
          "to": "2015-10-20T00:00:00"
         },
         {
          "from": "2015-10-22T00:00:00",
          "product": "smap",
          "to": "2015-10-24T00:00:00"
         },
         {
          "from": "2015-10-26T00:00:00",
          "product": "smap",
          "to": "2015-10-27T00:00:00"
         },
         {
          "from": "2015-10-29T00:00:00",
          "product": "smap",
          "to": "2015-10-28T00:00:00"
         },
         {
          "from": "2015-10-30T00:00:00",
          "product": "smap",
          "to": "2015-11-01T00:00:00"
         },
         {
          "from": "2015-11-03T00:00:00",
          "product": "smap",
          "to": "2015-11-05T00:00:00"
         },
         {
          "from": "2015-11-07T00:00:00",
          "product": "smap",
          "to": "2015-11-09T00:00:00"
         },
         {
          "from": "2015-11-11T00:00:00",
          "product": "smap",
          "to": "2015-11-13T00:00:00"
         },
         {
          "from": "2015-11-15T00:00:00",
          "product": "smap",
          "to": "2015-11-17T00:00:00"
         },
         {
          "from": "2015-11-19T00:00:00",
          "product": "smap",
          "to": "2015-11-25T00:00:00"
         },
         {
          "from": "2015-11-27T00:00:00",
          "product": "smap",
          "to": "2015-11-26T00:00:00"
         },
         {
          "from": "2015-11-28T00:00:00",
          "product": "smap",
          "to": "2015-11-27T00:00:00"
         },
         {
          "from": "2015-11-29T00:00:00",
          "product": "smap",
          "to": "2015-11-28T00:00:00"
         },
         {
          "from": "2015-11-30T00:00:00",
          "product": "smap",
          "to": "2015-12-02T00:00:00"
         },
         {
          "from": "2015-12-04T00:00:00",
          "product": "smap",
          "to": "2015-12-13T00:00:00"
         },
         {
          "from": "2015-12-15T00:00:00",
          "product": "smap",
          "to": "2015-12-14T00:00:00"
         },
         {
          "from": "2015-12-16T00:00:00",
          "product": "smap",
          "to": "2015-12-16T00:00:00"
         },
         {
          "from": "2015-12-18T00:00:00",
          "product": "smap",
          "to": "2015-12-18T00:00:00"
         },
         {
          "from": "2015-12-20T00:00:00",
          "product": "smap",
          "to": "2015-12-22T00:00:00"
         },
         {
          "from": "2015-12-24T00:00:00",
          "product": "smap",
          "to": "2015-12-26T00:00:00"
         },
         {
          "from": "2015-12-28T00:00:00",
          "product": "smap",
          "to": "2015-12-27T00:00:00"
         },
         {
          "from": "2015-12-29T00:00:00",
          "product": "smap",
          "to": "2015-12-28T00:00:00"
         },
         {
          "from": "2015-12-30T00:00:00",
          "product": "smap",
          "to": "2015-12-30T00:00:00"
         },
         {
          "from": "2016-01-01T00:00:00",
          "product": "smap",
          "to": "2015-12-31T00:00:00"
         },
         {
          "from": "2016-01-02T00:00:00",
          "product": "smap",
          "to": "2016-01-01T00:00:00"
         },
         {
          "from": "2016-01-03T00:00:00",
          "product": "smap",
          "to": "2016-01-03T00:00:00"
         },
         {
          "from": "2016-01-05T00:00:00",
          "product": "smap",
          "to": "2016-01-07T00:00:00"
         },
         {
          "from": "2016-01-09T00:00:00",
          "product": "smap",
          "to": "2016-01-08T00:00:00"
         },
         {
          "from": "2016-01-10T00:00:00",
          "product": "smap",
          "to": "2016-01-09T00:00:00"
         },
         {
          "from": "2016-01-11T00:00:00",
          "product": "smap",
          "to": "2016-01-11T00:00:00"
         },
         {
          "from": "2016-01-13T00:00:00",
          "product": "smap",
          "to": "2016-01-15T00:00:00"
         },
         {
          "from": "2016-01-17T00:00:00",
          "product": "smap",
          "to": "2016-01-19T00:00:00"
         },
         {
          "from": "2016-01-21T00:00:00",
          "product": "smap",
          "to": "2016-01-23T00:00:00"
         },
         {
          "from": "2016-01-25T00:00:00",
          "product": "smap",
          "to": "2016-01-27T00:00:00"
         },
         {
          "from": "2016-01-29T00:00:00",
          "product": "smap",
          "to": "2016-02-04T00:00:00"
         },
         {
          "from": "2016-02-06T00:00:00",
          "product": "smap",
          "to": "2016-02-12T00:00:00"
         },
         {
          "from": "2016-02-14T00:00:00",
          "product": "smap",
          "to": "2016-04-29T00:00:00"
         },
         {
          "from": "2016-05-01T00:00:00",
          "product": "smap",
          "to": "2016-05-01T00:00:00"
         },
         {
          "from": "2016-05-03T00:00:00",
          "product": "smap",
          "to": "2016-05-22T00:00:00"
         },
         {
          "from": "2016-05-24T00:00:00",
          "product": "smap",
          "to": "2016-05-30T00:00:00"
         },
         {
          "from": "2016-06-01T00:00:00",
          "product": "smap",
          "to": "2016-06-16T00:00:00"
         },
         {
          "from": "2016-06-18T00:00:00",
          "product": "smap",
          "to": "2016-07-01T00:00:00"
         },
         {
          "from": "2016-07-03T00:00:00",
          "product": "smap",
          "to": "2016-07-14T00:00:00"
         },
         {
          "from": "2016-07-16T00:00:00",
          "product": "smap",
          "to": "2016-07-22T00:00:00"
         },
         {
          "from": "2016-07-24T00:00:00",
          "product": "smap",
          "to": "2016-07-30T00:00:00"
         },
         {
          "from": "2016-08-01T00:00:00",
          "product": "smap",
          "to": "2016-08-03T00:00:00"
         },
         {
          "from": "2016-08-05T00:00:00",
          "product": "smap",
          "to": "2016-08-07T00:00:00"
         },
         {
          "from": "2016-08-09T00:00:00",
          "product": "smap",
          "to": "2016-08-11T00:00:00"
         },
         {
          "from": "2016-08-13T00:00:00",
          "product": "smap",
          "to": "2016-08-15T00:00:00"
         },
         {
          "from": "2016-08-17T00:00:00",
          "product": "smap",
          "to": "2016-08-19T00:00:00"
         },
         {
          "from": "2016-08-21T00:00:00",
          "product": "smap",
          "to": "2016-08-22T00:00:00"
         },
         {
          "from": "2016-08-24T00:00:00",
          "product": "smap",
          "to": "2016-08-23T00:00:00"
         },
         {
          "from": "2016-08-25T00:00:00",
          "product": "smap",
          "to": "2016-08-27T00:00:00"
         },
         {
          "from": "2016-08-29T00:00:00",
          "product": "smap",
          "to": "2016-08-31T00:00:00"
         },
         {
          "from": "2016-09-02T00:00:00",
          "product": "smap",
          "to": "2016-09-02T00:00:00"
         },
         {
          "from": "2016-09-04T00:00:00",
          "product": "smap",
          "to": "2016-09-04T00:00:00"
         },
         {
          "from": "2016-09-06T00:00:00",
          "product": "smap",
          "to": "2016-09-08T00:00:00"
         },
         {
          "from": "2016-09-10T00:00:00",
          "product": "smap",
          "to": "2016-09-12T00:00:00"
         },
         {
          "from": "2016-09-14T00:00:00",
          "product": "smap",
          "to": "2016-09-16T00:00:00"
         },
         {
          "from": "2016-09-18T00:00:00",
          "product": "smap",
          "to": "2016-09-20T00:00:00"
         },
         {
          "from": "2016-09-22T00:00:00",
          "product": "smap",
          "to": "2016-09-24T00:00:00"
         },
         {
          "from": "2016-09-26T00:00:00",
          "product": "smap",
          "to": "2016-09-28T00:00:00"
         },
         {
          "from": "2016-09-30T00:00:00",
          "product": "smap",
          "to": "2016-10-01T00:00:00"
         },
         {
          "from": "2016-10-03T00:00:00",
          "product": "smap",
          "to": "2016-10-02T00:00:00"
         },
         {
          "from": "2016-10-04T00:00:00",
          "product": "smap",
          "to": "2016-10-06T00:00:00"
         },
         {
          "from": "2016-10-08T00:00:00",
          "product": "smap",
          "to": "2016-10-10T00:00:00"
         },
         {
          "from": "2016-10-12T00:00:00",
          "product": "smap",
          "to": "2016-10-29T00:00:00"
         },
         {
          "from": "2016-10-31T00:00:00",
          "product": "smap",
          "to": "2016-11-02T00:00:00"
         },
         {
          "from": "2016-11-04T00:00:00",
          "product": "smap",
          "to": "2016-11-06T00:00:00"
         },
         {
          "from": "2016-11-08T00:00:00",
          "product": "smap",
          "to": "2016-11-14T00:00:00"
         },
         {
          "from": "2016-11-16T00:00:00",
          "product": "smap",
          "to": "2016-12-04T00:00:00"
         },
         {
          "from": "2016-12-06T00:00:00",
          "product": "smap",
          "to": "2016-12-12T00:00:00"
         },
         {
          "from": "2016-12-14T00:00:00",
          "product": "smap",
          "to": "2016-12-20T00:00:00"
         },
         {
          "from": "2016-12-22T00:00:00",
          "product": "smap",
          "to": "2016-12-28T00:00:00"
         },
         {
          "from": "2016-12-30T00:00:00",
          "product": "smap",
          "to": "2017-01-05T00:00:00"
         },
         {
          "from": "2017-01-07T00:00:00",
          "product": "smap",
          "to": "2017-01-06T00:00:00"
         },
         {
          "from": "2017-01-08T00:00:00",
          "product": "smap",
          "to": "2017-01-07T00:00:00"
         },
         {
          "from": "2017-01-09T00:00:00",
          "product": "smap",
          "to": "2017-01-13T00:00:00"
         },
         {
          "from": "2017-01-15T00:00:00",
          "product": "smap",
          "to": "2017-01-21T00:00:00"
         },
         {
          "from": "2017-01-23T00:00:00",
          "product": "smap",
          "to": "2017-01-22T00:00:00"
         },
         {
          "from": "2017-01-24T00:00:00",
          "product": "smap",
          "to": "2017-01-26T00:00:00"
         },
         {
          "from": "2017-01-28T00:00:00",
          "product": "smap",
          "to": "2017-01-29T00:00:00"
         },
         {
          "from": "2017-01-31T00:00:00",
          "product": "smap",
          "to": "2017-01-30T00:00:00"
         },
         {
          "from": "2017-02-01T00:00:00",
          "product": "smap",
          "to": "2017-02-03T00:00:00"
         },
         {
          "from": "2017-02-05T00:00:00",
          "product": "smap",
          "to": "2017-02-06T00:00:00"
         },
         {
          "from": "2017-02-08T00:00:00",
          "product": "smap",
          "to": "2017-02-07T00:00:00"
         },
         {
          "from": "2017-02-09T00:00:00",
          "product": "smap",
          "to": "2017-02-09T00:00:00"
         },
         {
          "from": "2017-02-11T00:00:00",
          "product": "smap",
          "to": "2017-02-11T00:00:00"
         },
         {
          "from": "2017-02-13T00:00:00",
          "product": "smap",
          "to": "2017-02-14T00:00:00"
         },
         {
          "from": "2017-02-16T00:00:00",
          "product": "smap",
          "to": "2017-02-15T00:00:00"
         },
         {
          "from": "2017-02-17T00:00:00",
          "product": "smap",
          "to": "2017-02-19T00:00:00"
         },
         {
          "from": "2017-02-21T00:00:00",
          "product": "smap",
          "to": "2017-02-23T00:00:00"
         },
         {
          "from": "2017-02-25T00:00:00",
          "product": "smap",
          "to": "2017-02-27T00:00:00"
         },
         {
          "from": "2017-03-01T00:00:00",
          "product": "smap",
          "to": "2017-03-02T00:00:00"
         },
         {
          "from": "2017-03-04T00:00:00",
          "product": "smap",
          "to": "2017-03-03T00:00:00"
         },
         {
          "from": "2017-03-05T00:00:00",
          "product": "smap",
          "to": "2017-03-07T00:00:00"
         },
         {
          "from": "2017-03-09T00:00:00",
          "product": "smap",
          "to": "2017-03-11T00:00:00"
         },
         {
          "from": "2017-03-13T00:00:00",
          "product": "smap",
          "to": "2017-03-14T00:00:00"
         },
         {
          "from": "2017-03-16T00:00:00",
          "product": "smap",
          "to": "2017-03-19T00:00:00"
         },
         {
          "from": "2017-03-21T00:00:00",
          "product": "smap",
          "to": "2017-04-13T00:00:00"
         },
         {
          "from": "2017-04-15T00:00:00",
          "product": "smap",
          "to": "2017-04-30T00:00:00"
         },
         {
          "from": "2017-05-02T00:00:00",
          "product": "smap",
          "to": "2017-05-25T00:00:00"
         },
         {
          "from": "2017-05-27T00:00:00",
          "product": "smap",
          "to": "2017-06-02T00:00:00"
         },
         {
          "from": "2017-06-04T00:00:00",
          "product": "smap",
          "to": "2017-06-10T00:00:00"
         },
         {
          "from": "2017-06-12T00:00:00",
          "product": "smap",
          "to": "2017-06-11T00:00:00"
         },
         {
          "from": "2017-06-13T00:00:00",
          "product": "smap",
          "to": "2017-06-18T00:00:00"
         },
         {
          "from": "2017-06-20T00:00:00",
          "product": "smap",
          "to": "2017-06-26T00:00:00"
         },
         {
          "from": "2017-06-28T00:00:00",
          "product": "smap",
          "to": "2017-07-04T00:00:00"
         },
         {
          "from": "2017-07-06T00:00:00",
          "product": "smap",
          "to": "2017-07-12T00:00:00"
         },
         {
          "from": "2017-07-14T00:00:00",
          "product": "smap",
          "to": "2017-07-20T00:00:00"
         },
         {
          "from": "2017-07-22T00:00:00",
          "product": "smap",
          "to": "2017-08-13T00:00:00"
         },
         {
          "from": "2017-08-15T00:00:00",
          "product": "smap",
          "to": "2017-09-07T00:00:00"
         },
         {
          "from": "2017-09-09T00:00:00",
          "product": "smap",
          "to": "2017-12-07T00:00:00"
         },
         {
          "from": "2017-12-09T00:00:00",
          "product": "smap",
          "to": "2017-12-19T00:00:00"
         },
         {
          "from": "2017-12-21T00:00:00",
          "product": "smap",
          "to": "2017-12-27T00:00:00"
         },
         {
          "from": "2017-12-29T00:00:00",
          "product": "smap",
          "to": "2017-12-31T00:00:00"
         },
         {
          "from": "2018-01-02T00:00:00",
          "product": "smap",
          "to": "2018-01-08T00:00:00"
         },
         {
          "from": "2018-01-10T00:00:00",
          "product": "smap",
          "to": "2018-01-11T00:00:00"
         },
         {
          "from": "2018-01-13T00:00:00",
          "product": "smap",
          "to": "2018-01-16T00:00:00"
         },
         {
          "from": "2018-01-18T00:00:00",
          "product": "smap",
          "to": "2018-02-01T00:00:00"
         },
         {
          "from": "2018-02-03T00:00:00",
          "product": "smap",
          "to": "2018-02-09T00:00:00"
         },
         {
          "from": "2018-02-11T00:00:00",
          "product": "smap",
          "to": "2018-02-14T00:00:00"
         },
         {
          "from": "2018-02-16T00:00:00",
          "product": "smap",
          "to": "2018-02-17T00:00:00"
         },
         {
          "from": "2018-02-19T00:00:00",
          "product": "smap",
          "to": "2018-02-25T00:00:00"
         },
         {
          "from": "2018-02-27T00:00:00",
          "product": "smap",
          "to": "2018-03-05T00:00:00"
         },
         {
          "from": "2018-03-07T00:00:00",
          "product": "smap",
          "to": "2018-03-13T00:00:00"
         },
         {
          "from": "2018-03-15T00:00:00",
          "product": "smap",
          "to": "2018-04-14T00:00:00"
         },
         {
          "from": "2018-04-16T00:00:00",
          "product": "smap",
          "to": "2018-06-05T00:00:00"
         },
         {
          "from": "2018-06-07T00:00:00",
          "product": "smap",
          "to": "2018-06-13T00:00:00"
         },
         {
          "from": "2018-06-15T00:00:00",
          "product": "smap",
          "to": "2018-06-21T00:00:00"
         },
         {
          "from": "2018-06-23T00:00:00",
          "product": "smap",
          "to": "2018-06-26T00:00:00"
         },
         {
          "from": "2018-06-28T00:00:00",
          "product": "smap",
          "to": "2018-06-29T00:00:00"
         },
         {
          "from": "2018-07-01T00:00:00",
          "product": "smap",
          "to": "2018-07-07T00:00:00"
         },
         {
          "from": "2018-07-09T00:00:00",
          "product": "smap",
          "to": "2018-07-15T00:00:00"
         },
         {
          "from": "2018-07-17T00:00:00",
          "product": "smap",
          "to": "2018-07-17T00:00:00"
         },
         {
          "from": "2018-07-19T00:00:00",
          "product": "smap",
          "to": "2018-07-23T00:00:00"
         },
         {
          "from": "2018-07-25T00:00:00",
          "product": "smap",
          "to": "2018-07-31T00:00:00"
         },
         {
          "from": "2018-08-02T00:00:00",
          "product": "smap",
          "to": "2018-08-08T00:00:00"
         },
         {
          "from": "2018-08-10T00:00:00",
          "product": "smap",
          "to": "2018-08-16T00:00:00"
         },
         {
          "from": "2018-08-18T00:00:00",
          "product": "smap",
          "to": "2018-08-24T00:00:00"
         },
         {
          "from": "2018-08-26T00:00:00",
          "product": "smap",
          "to": "2018-12-17T00:00:00"
         },
         {
          "from": "2018-12-19T00:00:00",
          "product": "smap",
          "to": "2018-12-19T00:00:00"
         },
         {
          "from": "2018-12-21T00:00:00",
          "product": "smap",
          "to": "2018-12-26T00:00:00"
         },
         {
          "from": "2018-12-28T00:00:00",
          "product": "smap",
          "to": "2019-01-02T00:00:00"
         },
         {
          "from": "2019-01-04T00:00:00",
          "product": "smap",
          "to": "2019-01-03T00:00:00"
         },
         {
          "from": "2019-01-05T00:00:00",
          "product": "smap",
          "to": "2019-01-04T00:00:00"
         },
         {
          "from": "2019-01-06T00:00:00",
          "product": "smap",
          "to": "2019-01-11T00:00:00"
         },
         {
          "from": "2019-01-13T00:00:00",
          "product": "smap",
          "to": "2019-01-19T00:00:00"
         },
         {
          "from": "2019-01-21T00:00:00",
          "product": "smap",
          "to": "2019-01-27T00:00:00"
         },
         {
          "from": "2019-01-29T00:00:00",
          "product": "smap",
          "to": "2019-02-04T00:00:00"
         },
         {
          "from": "2019-02-06T00:00:00",
          "product": "smap",
          "to": "2019-02-08T00:00:00"
         },
         {
          "from": "2019-02-10T00:00:00",
          "product": "smap",
          "to": "2019-02-12T00:00:00"
         },
         {
          "from": "2019-02-14T00:00:00",
          "product": "smap",
          "to": "2019-02-16T00:00:00"
         },
         {
          "from": "2019-02-18T00:00:00",
          "product": "smap",
          "to": "2019-02-20T00:00:00"
         },
         {
          "from": "2019-02-22T00:00:00",
          "product": "smap",
          "to": "2019-02-23T00:00:00"
         },
         {
          "from": "2019-02-25T00:00:00",
          "product": "smap",
          "to": "2019-02-24T00:00:00"
         },
         {
          "from": "2019-02-26T00:00:00",
          "product": "smap",
          "to": "2019-02-28T00:00:00"
         },
         {
          "from": "2019-03-02T00:00:00",
          "product": "smap",
          "to": "2019-03-03T00:00:00"
         },
         {
          "from": "2019-03-05T00:00:00",
          "product": "smap",
          "to": "2019-03-04T00:00:00"
         },
         {
          "from": "2019-03-06T00:00:00",
          "product": "smap",
          "to": "2019-03-08T00:00:00"
         },
         {
          "from": "2019-03-10T00:00:00",
          "product": "smap",
          "to": "2019-03-12T00:00:00"
         },
         {
          "from": "2019-03-14T00:00:00",
          "product": "smap",
          "to": "2019-03-16T00:00:00"
         },
         {
          "from": "2019-03-18T00:00:00",
          "product": "smap",
          "to": "2019-03-24T00:00:00"
         },
         {
          "from": "2019-03-26T00:00:00",
          "product": "smap",
          "to": "2019-04-01T00:00:00"
         },
         {
          "from": "2019-04-03T00:00:00",
          "product": "smap",
          "to": "2019-04-17T00:00:00"
         },
         {
          "from": "2019-04-19T00:00:00",
          "product": "smap",
          "to": "2019-04-22T00:00:00"
         },
         {
          "from": "2019-04-24T00:00:00",
          "product": "smap",
          "to": "2019-05-18T00:00:00"
         },
         {
          "from": "2019-05-20T00:00:00",
          "product": "smap",
          "to": "2019-06-09T00:00:00"
         },
         {
          "from": "2015-04-01T00:00:00",
          "product": "Noah",
          "to": "2019-07-02T00:00:00"
         },
         {
          "from": "2015-04-01T00:00:00",
          "product": "Mesonet",
          "to": "2019-07-02T00:00:00"
         }
        ]
       },
       "encoding": {
        "color": {
         "field": "product",
         "scale": {
          "scheme": "dark2"
         },
         "type": "nominal"
        },
        "x": {
         "field": "from",
         "type": "temporal"
        },
        "x2": {
         "field": "to"
        },
        "y": {
         "field": "product",
         "type": "nominal"
        }
       },
       "mark": "bar",
       "width": 1000
      },
      "image/png": "[encoded data removed]",
      "text/plain": [
       "<VegaLite 4 object>\n",
       "\n",
       "If you see this message, it means the renderer has not been properly enabled\n",
       "for the frontend that you are using. For more information, see\n",
       "https://altair-viz.github.io/user_guide/troubleshooting.html\n"
      ]
     },
     "execution_count": 106,
     "metadata": {},
     "output_type": "execute_result"
    }
   ],
   "source": [
    "\n",
    "alt.Chart(data).mark_bar().encode(\n",
    "    x='from',\n",
    "    x2='to',\n",
    "    y='product',\n",
    "    color=alt.Color('product', scale=alt.Scale(scheme='dark2'))\n",
    ").properties(width=1000).configure_axis(labelFontSize=15, title=None).configure_legend(labelFontSize=20).configure_title()"
   ]
  },
  {
   "cell_type": "code",
   "execution_count": 17,
   "metadata": {},
   "outputs": [],
   "source": [
    "smap= pd.read_csv('SMAP_site.csv').set_index('Unnamed: 0')"
   ]
  },
  {
   "cell_type": "code",
   "execution_count": 18,
   "metadata": {},
   "outputs": [],
   "source": [
    "smap.index= pd.to_datetime(smap.index, format='%Y%m%d')\n",
    "smap= smap.sort_index()\n",
    "smap[smap==-9999]= np.nan\n",
    "smap=smap.loc[:pd.to_datetime('20190702')]"
   ]
  },
  {
   "cell_type": "code",
   "execution_count": 46,
   "metadata": {},
   "outputs": [
    {
     "data": {
      "text/plain": [
       "[1537,\n",
       " 1346,\n",
       " 1300,\n",
       " 1292,\n",
       " 1280,\n",
       " 1277,\n",
       " 1265,\n",
       " 1265,\n",
       " 1263,\n",
       " 1261,\n",
       " 1232,\n",
       " 1198,\n",
       " 1097,\n",
       " 1089,\n",
       " 1089,\n",
       " 1089,\n",
       " 1089,\n",
       " 1088,\n",
       " 1088,\n",
       " 1087,\n",
       " 1087,\n",
       " 1086,\n",
       " 1086,\n",
       " 1086,\n",
       " 1086,\n",
       " 1085,\n",
       " 1085,\n",
       " 1085,\n",
       " 1085,\n",
       " 1085,\n",
       " 1084,\n",
       " 1084,\n",
       " 1084,\n",
       " 1084,\n",
       " 1084,\n",
       " 1083,\n",
       " 1082,\n",
       " 1082,\n",
       " 1081,\n",
       " 1081,\n",
       " 1081,\n",
       " 1080,\n",
       " 1079,\n",
       " 1078,\n",
       " 1078,\n",
       " 1078,\n",
       " 1078,\n",
       " 1077,\n",
       " 1075,\n",
       " 1075,\n",
       " 1075,\n",
       " 1071,\n",
       " 1069,\n",
       " 1068,\n",
       " 1067,\n",
       " 1066,\n",
       " 1065,\n",
       " 1036,\n",
       " 1034,\n",
       " 1031,\n",
       " 1010,\n",
       " 1009,\n",
       " 1007,\n",
       " 1006,\n",
       " 1006,\n",
       " 1005,\n",
       " 985,\n",
       " 957,\n",
       " 957,\n",
       " 947,\n",
       " 927,\n",
       " 919,\n",
       " 916,\n",
       " 907,\n",
       " 905,\n",
       " 899,\n",
       " 899,\n",
       " 897,\n",
       " 896,\n",
       " 895,\n",
       " 895,\n",
       " 895,\n",
       " 895,\n",
       " 895,\n",
       " 895,\n",
       " 894,\n",
       " 894,\n",
       " 893,\n",
       " 893,\n",
       " 893,\n",
       " 892,\n",
       " 892,\n",
       " 890,\n",
       " 890,\n",
       " 890,\n",
       " 889,\n",
       " 888,\n",
       " 888,\n",
       " 887,\n",
       " 886,\n",
       " 886,\n",
       " 885,\n",
       " 885,\n",
       " 879,\n",
       " 877,\n",
       " 877,\n",
       " 872,\n",
       " 842,\n",
       " 840,\n",
       " 840,\n",
       " 833,\n",
       " 829,\n",
       " 817,\n",
       " 803,\n",
       " 760,\n",
       " 705]"
      ]
     },
     "execution_count": 46,
     "metadata": {},
     "output_type": "execute_result"
    }
   ],
   "source": [
    "sorted(smap.apply(lambda x: len(x[(~pd.isna(x))]), axis=0))[::-1]"
   ]
  },
  {
   "cell_type": "code",
   "execution_count": 16,
   "metadata": {},
   "outputs": [
    {
     "data": {
      "text/plain": [
       "Int64Index([7, 7, 7, 7, 7, 7, 7, 7, 7, 7,\n",
       "            ...\n",
       "            9, 9, 9, 9, 9, 9, 9, 9, 9, 9],\n",
       "           dtype='int64', name='Unnamed: 0', length=1537)"
      ]
     },
     "execution_count": 16,
     "metadata": {},
     "output_type": "execute_result"
    }
   ],
   "source": [
    "smap.index.month% 12 + 3"
   ]
  },
  {
   "cell_type": "code",
   "execution_count": 23,
   "metadata": {},
   "outputs": [
    {
     "data": {
      "text/html": [
       "<div>\n",
       "<style scoped>\n",
       "    .dataframe tbody tr th:only-of-type {\n",
       "        vertical-align: middle;\n",
       "    }\n",
       "\n",
       "    .dataframe tbody tr th {\n",
       "        vertical-align: top;\n",
       "    }\n",
       "\n",
       "    .dataframe thead th {\n",
       "        text-align: right;\n",
       "    }\n",
       "</style>\n",
       "<table border=\"1\" class=\"dataframe\">\n",
       "  <thead>\n",
       "    <tr style=\"text-align: right;\">\n",
       "      <th></th>\n",
       "      <th>110</th>\n",
       "      <th>1</th>\n",
       "      <th>2</th>\n",
       "      <th>116</th>\n",
       "      <th>135</th>\n",
       "      <th>111</th>\n",
       "      <th>126</th>\n",
       "      <th>6</th>\n",
       "      <th>8</th>\n",
       "      <th>9</th>\n",
       "      <th>10</th>\n",
       "      <th>11</th>\n",
       "      <th>12</th>\n",
       "      <th>14</th>\n",
       "      <th>15</th>\n",
       "      <th>...</th>\n",
       "      <th>94</th>\n",
       "      <th>95</th>\n",
       "      <th>137</th>\n",
       "      <th>97</th>\n",
       "      <th>136</th>\n",
       "      <th>99</th>\n",
       "      <th>100</th>\n",
       "      <th>101</th>\n",
       "      <th>102</th>\n",
       "      <th>132</th>\n",
       "      <th>104</th>\n",
       "      <th>105</th>\n",
       "      <th>106</th>\n",
       "      <th>107</th>\n",
       "      <th>108</th>\n",
       "    </tr>\n",
       "    <tr>\n",
       "      <th>Unnamed: 0</th>\n",
       "      <th></th>\n",
       "      <th></th>\n",
       "      <th></th>\n",
       "      <th></th>\n",
       "      <th></th>\n",
       "      <th></th>\n",
       "      <th></th>\n",
       "      <th></th>\n",
       "      <th></th>\n",
       "      <th></th>\n",
       "      <th></th>\n",
       "      <th></th>\n",
       "      <th></th>\n",
       "      <th></th>\n",
       "      <th></th>\n",
       "      <th></th>\n",
       "      <th></th>\n",
       "      <th></th>\n",
       "      <th></th>\n",
       "      <th></th>\n",
       "      <th></th>\n",
       "      <th></th>\n",
       "      <th></th>\n",
       "      <th></th>\n",
       "      <th></th>\n",
       "      <th></th>\n",
       "      <th></th>\n",
       "      <th></th>\n",
       "      <th></th>\n",
       "      <th></th>\n",
       "      <th></th>\n",
       "    </tr>\n",
       "  </thead>\n",
       "  <tbody>\n",
       "    <tr>\n",
       "      <td>2015-04-01</td>\n",
       "      <td>0.194477</td>\n",
       "      <td>NaN</td>\n",
       "      <td>0.170099</td>\n",
       "      <td>0.108790</td>\n",
       "      <td>NaN</td>\n",
       "      <td>0.185221</td>\n",
       "      <td>NaN</td>\n",
       "      <td>0.088007</td>\n",
       "      <td>0.072626</td>\n",
       "      <td>0.185681</td>\n",
       "      <td>NaN</td>\n",
       "      <td>0.138791</td>\n",
       "      <td>0.066451</td>\n",
       "      <td>0.131449</td>\n",
       "      <td>NaN</td>\n",
       "      <td>...</td>\n",
       "      <td>0.239011</td>\n",
       "      <td>NaN</td>\n",
       "      <td>NaN</td>\n",
       "      <td>NaN</td>\n",
       "      <td>0.242766</td>\n",
       "      <td>0.217560</td>\n",
       "      <td>0.106528</td>\n",
       "      <td>0.199150</td>\n",
       "      <td>0.190997</td>\n",
       "      <td>NaN</td>\n",
       "      <td>NaN</td>\n",
       "      <td>NaN</td>\n",
       "      <td>NaN</td>\n",
       "      <td>0.071657</td>\n",
       "      <td>NaN</td>\n",
       "    </tr>\n",
       "    <tr>\n",
       "      <td>2015-04-02</td>\n",
       "      <td>0.101527</td>\n",
       "      <td>0.239310</td>\n",
       "      <td>0.105358</td>\n",
       "      <td>0.124612</td>\n",
       "      <td>0.269818</td>\n",
       "      <td>0.111048</td>\n",
       "      <td>0.171979</td>\n",
       "      <td>0.107143</td>\n",
       "      <td>0.087372</td>\n",
       "      <td>0.126907</td>\n",
       "      <td>0.262046</td>\n",
       "      <td>0.149120</td>\n",
       "      <td>0.042726</td>\n",
       "      <td>0.108825</td>\n",
       "      <td>0.236647</td>\n",
       "      <td>...</td>\n",
       "      <td>0.126907</td>\n",
       "      <td>0.239310</td>\n",
       "      <td>0.265678</td>\n",
       "      <td>0.303106</td>\n",
       "      <td>0.109773</td>\n",
       "      <td>0.116774</td>\n",
       "      <td>0.094866</td>\n",
       "      <td>0.101527</td>\n",
       "      <td>0.124612</td>\n",
       "      <td>0.318112</td>\n",
       "      <td>0.304337</td>\n",
       "      <td>0.286676</td>\n",
       "      <td>0.305297</td>\n",
       "      <td>0.105358</td>\n",
       "      <td>0.239177</td>\n",
       "    </tr>\n",
       "    <tr>\n",
       "      <td>2015-04-03</td>\n",
       "      <td>0.168554</td>\n",
       "      <td>0.288328</td>\n",
       "      <td>NaN</td>\n",
       "      <td>0.093478</td>\n",
       "      <td>0.384512</td>\n",
       "      <td>0.165122</td>\n",
       "      <td>0.222526</td>\n",
       "      <td>NaN</td>\n",
       "      <td>NaN</td>\n",
       "      <td>0.118361</td>\n",
       "      <td>0.257237</td>\n",
       "      <td>0.121930</td>\n",
       "      <td>NaN</td>\n",
       "      <td>0.125148</td>\n",
       "      <td>0.227992</td>\n",
       "      <td>...</td>\n",
       "      <td>NaN</td>\n",
       "      <td>0.284745</td>\n",
       "      <td>NaN</td>\n",
       "      <td>0.349008</td>\n",
       "      <td>0.192994</td>\n",
       "      <td>0.186688</td>\n",
       "      <td>0.085947</td>\n",
       "      <td>0.180341</td>\n",
       "      <td>0.132382</td>\n",
       "      <td>0.376712</td>\n",
       "      <td>0.311578</td>\n",
       "      <td>0.424563</td>\n",
       "      <td>0.442700</td>\n",
       "      <td>0.068868</td>\n",
       "      <td>0.255294</td>\n",
       "    </tr>\n",
       "    <tr>\n",
       "      <td>2015-04-04</td>\n",
       "      <td>NaN</td>\n",
       "      <td>NaN</td>\n",
       "      <td>NaN</td>\n",
       "      <td>NaN</td>\n",
       "      <td>NaN</td>\n",
       "      <td>NaN</td>\n",
       "      <td>NaN</td>\n",
       "      <td>0.065996</td>\n",
       "      <td>0.056001</td>\n",
       "      <td>NaN</td>\n",
       "      <td>NaN</td>\n",
       "      <td>NaN</td>\n",
       "      <td>0.050023</td>\n",
       "      <td>NaN</td>\n",
       "      <td>NaN</td>\n",
       "      <td>...</td>\n",
       "      <td>NaN</td>\n",
       "      <td>NaN</td>\n",
       "      <td>NaN</td>\n",
       "      <td>NaN</td>\n",
       "      <td>NaN</td>\n",
       "      <td>NaN</td>\n",
       "      <td>NaN</td>\n",
       "      <td>NaN</td>\n",
       "      <td>NaN</td>\n",
       "      <td>NaN</td>\n",
       "      <td>NaN</td>\n",
       "      <td>NaN</td>\n",
       "      <td>NaN</td>\n",
       "      <td>NaN</td>\n",
       "      <td>NaN</td>\n",
       "    </tr>\n",
       "    <tr>\n",
       "      <td>2015-04-05</td>\n",
       "      <td>0.155351</td>\n",
       "      <td>0.265553</td>\n",
       "      <td>0.099805</td>\n",
       "      <td>0.082118</td>\n",
       "      <td>NaN</td>\n",
       "      <td>0.143386</td>\n",
       "      <td>0.202815</td>\n",
       "      <td>0.060645</td>\n",
       "      <td>0.051897</td>\n",
       "      <td>0.115860</td>\n",
       "      <td>NaN</td>\n",
       "      <td>0.142360</td>\n",
       "      <td>0.047849</td>\n",
       "      <td>0.110742</td>\n",
       "      <td>NaN</td>\n",
       "      <td>...</td>\n",
       "      <td>0.121187</td>\n",
       "      <td>0.268646</td>\n",
       "      <td>NaN</td>\n",
       "      <td>NaN</td>\n",
       "      <td>0.182292</td>\n",
       "      <td>0.172200</td>\n",
       "      <td>0.093346</td>\n",
       "      <td>0.161836</td>\n",
       "      <td>0.123079</td>\n",
       "      <td>NaN</td>\n",
       "      <td>0.170142</td>\n",
       "      <td>NaN</td>\n",
       "      <td>0.166281</td>\n",
       "      <td>0.073206</td>\n",
       "      <td>NaN</td>\n",
       "    </tr>\n",
       "    <tr>\n",
       "      <td>...</td>\n",
       "      <td>...</td>\n",
       "      <td>...</td>\n",
       "      <td>...</td>\n",
       "      <td>...</td>\n",
       "      <td>...</td>\n",
       "      <td>...</td>\n",
       "      <td>...</td>\n",
       "      <td>...</td>\n",
       "      <td>...</td>\n",
       "      <td>...</td>\n",
       "      <td>...</td>\n",
       "      <td>...</td>\n",
       "      <td>...</td>\n",
       "      <td>...</td>\n",
       "      <td>...</td>\n",
       "      <td>...</td>\n",
       "      <td>...</td>\n",
       "      <td>...</td>\n",
       "      <td>...</td>\n",
       "      <td>...</td>\n",
       "      <td>...</td>\n",
       "      <td>...</td>\n",
       "      <td>...</td>\n",
       "      <td>...</td>\n",
       "      <td>...</td>\n",
       "      <td>...</td>\n",
       "      <td>...</td>\n",
       "      <td>...</td>\n",
       "      <td>...</td>\n",
       "      <td>...</td>\n",
       "      <td>...</td>\n",
       "    </tr>\n",
       "    <tr>\n",
       "      <td>2019-06-15</td>\n",
       "      <td>0.169647</td>\n",
       "      <td>NaN</td>\n",
       "      <td>0.222167</td>\n",
       "      <td>0.265405</td>\n",
       "      <td>NaN</td>\n",
       "      <td>0.148136</td>\n",
       "      <td>NaN</td>\n",
       "      <td>0.084337</td>\n",
       "      <td>0.136243</td>\n",
       "      <td>0.146900</td>\n",
       "      <td>NaN</td>\n",
       "      <td>0.467020</td>\n",
       "      <td>0.121731</td>\n",
       "      <td>0.267699</td>\n",
       "      <td>NaN</td>\n",
       "      <td>...</td>\n",
       "      <td>0.204388</td>\n",
       "      <td>NaN</td>\n",
       "      <td>NaN</td>\n",
       "      <td>NaN</td>\n",
       "      <td>0.182357</td>\n",
       "      <td>0.246847</td>\n",
       "      <td>0.174636</td>\n",
       "      <td>0.195901</td>\n",
       "      <td>0.128517</td>\n",
       "      <td>NaN</td>\n",
       "      <td>NaN</td>\n",
       "      <td>NaN</td>\n",
       "      <td>NaN</td>\n",
       "      <td>0.113173</td>\n",
       "      <td>NaN</td>\n",
       "    </tr>\n",
       "    <tr>\n",
       "      <td>2019-06-16</td>\n",
       "      <td>0.342612</td>\n",
       "      <td>0.394912</td>\n",
       "      <td>0.192496</td>\n",
       "      <td>0.281853</td>\n",
       "      <td>0.314742</td>\n",
       "      <td>0.321662</td>\n",
       "      <td>0.426738</td>\n",
       "      <td>0.157665</td>\n",
       "      <td>0.131764</td>\n",
       "      <td>0.235720</td>\n",
       "      <td>0.324617</td>\n",
       "      <td>0.437831</td>\n",
       "      <td>0.070314</td>\n",
       "      <td>0.414467</td>\n",
       "      <td>0.353904</td>\n",
       "      <td>...</td>\n",
       "      <td>0.235720</td>\n",
       "      <td>0.394912</td>\n",
       "      <td>0.328031</td>\n",
       "      <td>0.285112</td>\n",
       "      <td>0.313376</td>\n",
       "      <td>0.440050</td>\n",
       "      <td>0.290651</td>\n",
       "      <td>0.342612</td>\n",
       "      <td>0.281853</td>\n",
       "      <td>0.285908</td>\n",
       "      <td>0.307465</td>\n",
       "      <td>0.296087</td>\n",
       "      <td>0.292156</td>\n",
       "      <td>0.192496</td>\n",
       "      <td>0.352086</td>\n",
       "    </tr>\n",
       "    <tr>\n",
       "      <td>2019-06-17</td>\n",
       "      <td>0.259933</td>\n",
       "      <td>0.192896</td>\n",
       "      <td>0.238630</td>\n",
       "      <td>0.252366</td>\n",
       "      <td>0.392787</td>\n",
       "      <td>0.232179</td>\n",
       "      <td>0.330517</td>\n",
       "      <td>0.294152</td>\n",
       "      <td>NaN</td>\n",
       "      <td>0.167317</td>\n",
       "      <td>0.309550</td>\n",
       "      <td>0.846401</td>\n",
       "      <td>NaN</td>\n",
       "      <td>0.254339</td>\n",
       "      <td>0.161328</td>\n",
       "      <td>...</td>\n",
       "      <td>0.167317</td>\n",
       "      <td>0.192896</td>\n",
       "      <td>NaN</td>\n",
       "      <td>0.460807</td>\n",
       "      <td>0.205485</td>\n",
       "      <td>0.223651</td>\n",
       "      <td>0.199143</td>\n",
       "      <td>0.259933</td>\n",
       "      <td>0.196285</td>\n",
       "      <td>0.372796</td>\n",
       "      <td>0.294884</td>\n",
       "      <td>0.412327</td>\n",
       "      <td>0.321689</td>\n",
       "      <td>0.238630</td>\n",
       "      <td>0.199868</td>\n",
       "    </tr>\n",
       "    <tr>\n",
       "      <td>2019-06-18</td>\n",
       "      <td>NaN</td>\n",
       "      <td>NaN</td>\n",
       "      <td>NaN</td>\n",
       "      <td>NaN</td>\n",
       "      <td>NaN</td>\n",
       "      <td>NaN</td>\n",
       "      <td>NaN</td>\n",
       "      <td>0.132205</td>\n",
       "      <td>0.167643</td>\n",
       "      <td>NaN</td>\n",
       "      <td>NaN</td>\n",
       "      <td>NaN</td>\n",
       "      <td>0.195352</td>\n",
       "      <td>NaN</td>\n",
       "      <td>NaN</td>\n",
       "      <td>...</td>\n",
       "      <td>NaN</td>\n",
       "      <td>NaN</td>\n",
       "      <td>NaN</td>\n",
       "      <td>NaN</td>\n",
       "      <td>NaN</td>\n",
       "      <td>NaN</td>\n",
       "      <td>NaN</td>\n",
       "      <td>NaN</td>\n",
       "      <td>NaN</td>\n",
       "      <td>NaN</td>\n",
       "      <td>NaN</td>\n",
       "      <td>NaN</td>\n",
       "      <td>NaN</td>\n",
       "      <td>NaN</td>\n",
       "      <td>NaN</td>\n",
       "    </tr>\n",
       "    <tr>\n",
       "      <td>2019-06-19</td>\n",
       "      <td>0.209918</td>\n",
       "      <td>0.305182</td>\n",
       "      <td>0.187384</td>\n",
       "      <td>0.234111</td>\n",
       "      <td>0.203861</td>\n",
       "      <td>0.200328</td>\n",
       "      <td>0.292508</td>\n",
       "      <td>0.116924</td>\n",
       "      <td>0.167089</td>\n",
       "      <td>0.186749</td>\n",
       "      <td>0.190347</td>\n",
       "      <td>0.398742</td>\n",
       "      <td>0.161757</td>\n",
       "      <td>0.314647</td>\n",
       "      <td>NaN</td>\n",
       "      <td>...</td>\n",
       "      <td>0.182127</td>\n",
       "      <td>0.333332</td>\n",
       "      <td>0.189015</td>\n",
       "      <td>0.205390</td>\n",
       "      <td>0.216553</td>\n",
       "      <td>0.253435</td>\n",
       "      <td>0.241475</td>\n",
       "      <td>0.248683</td>\n",
       "      <td>0.222121</td>\n",
       "      <td>0.208685</td>\n",
       "      <td>0.209854</td>\n",
       "      <td>0.212649</td>\n",
       "      <td>0.208922</td>\n",
       "      <td>0.137095</td>\n",
       "      <td>NaN</td>\n",
       "    </tr>\n",
       "  </tbody>\n",
       "</table>\n",
       "<p>1537 rows × 115 columns</p>\n",
       "</div>"
      ],
      "text/plain": [
       "                 110         1         2       116       135       111  \\\n",
       "Unnamed: 0                                                               \n",
       "2015-04-01  0.194477       NaN  0.170099  0.108790       NaN  0.185221   \n",
       "2015-04-02  0.101527  0.239310  0.105358  0.124612  0.269818  0.111048   \n",
       "2015-04-03  0.168554  0.288328       NaN  0.093478  0.384512  0.165122   \n",
       "2015-04-04       NaN       NaN       NaN       NaN       NaN       NaN   \n",
       "2015-04-05  0.155351  0.265553  0.099805  0.082118       NaN  0.143386   \n",
       "...              ...       ...       ...       ...       ...       ...   \n",
       "2019-06-15  0.169647       NaN  0.222167  0.265405       NaN  0.148136   \n",
       "2019-06-16  0.342612  0.394912  0.192496  0.281853  0.314742  0.321662   \n",
       "2019-06-17  0.259933  0.192896  0.238630  0.252366  0.392787  0.232179   \n",
       "2019-06-18       NaN       NaN       NaN       NaN       NaN       NaN   \n",
       "2019-06-19  0.209918  0.305182  0.187384  0.234111  0.203861  0.200328   \n",
       "\n",
       "                 126         6         8         9        10        11  \\\n",
       "Unnamed: 0                                                               \n",
       "2015-04-01       NaN  0.088007  0.072626  0.185681       NaN  0.138791   \n",
       "2015-04-02  0.171979  0.107143  0.087372  0.126907  0.262046  0.149120   \n",
       "2015-04-03  0.222526       NaN       NaN  0.118361  0.257237  0.121930   \n",
       "2015-04-04       NaN  0.065996  0.056001       NaN       NaN       NaN   \n",
       "2015-04-05  0.202815  0.060645  0.051897  0.115860       NaN  0.142360   \n",
       "...              ...       ...       ...       ...       ...       ...   \n",
       "2019-06-15       NaN  0.084337  0.136243  0.146900       NaN  0.467020   \n",
       "2019-06-16  0.426738  0.157665  0.131764  0.235720  0.324617  0.437831   \n",
       "2019-06-17  0.330517  0.294152       NaN  0.167317  0.309550  0.846401   \n",
       "2019-06-18       NaN  0.132205  0.167643       NaN       NaN       NaN   \n",
       "2019-06-19  0.292508  0.116924  0.167089  0.186749  0.190347  0.398742   \n",
       "\n",
       "                  12        14        15  ...        94        95       137  \\\n",
       "Unnamed: 0                                ...                                 \n",
       "2015-04-01  0.066451  0.131449       NaN  ...  0.239011       NaN       NaN   \n",
       "2015-04-02  0.042726  0.108825  0.236647  ...  0.126907  0.239310  0.265678   \n",
       "2015-04-03       NaN  0.125148  0.227992  ...       NaN  0.284745       NaN   \n",
       "2015-04-04  0.050023       NaN       NaN  ...       NaN       NaN       NaN   \n",
       "2015-04-05  0.047849  0.110742       NaN  ...  0.121187  0.268646       NaN   \n",
       "...              ...       ...       ...  ...       ...       ...       ...   \n",
       "2019-06-15  0.121731  0.267699       NaN  ...  0.204388       NaN       NaN   \n",
       "2019-06-16  0.070314  0.414467  0.353904  ...  0.235720  0.394912  0.328031   \n",
       "2019-06-17       NaN  0.254339  0.161328  ...  0.167317  0.192896       NaN   \n",
       "2019-06-18  0.195352       NaN       NaN  ...       NaN       NaN       NaN   \n",
       "2019-06-19  0.161757  0.314647       NaN  ...  0.182127  0.333332  0.189015   \n",
       "\n",
       "                  97       136        99       100       101       102  \\\n",
       "Unnamed: 0                                                               \n",
       "2015-04-01       NaN  0.242766  0.217560  0.106528  0.199150  0.190997   \n",
       "2015-04-02  0.303106  0.109773  0.116774  0.094866  0.101527  0.124612   \n",
       "2015-04-03  0.349008  0.192994  0.186688  0.085947  0.180341  0.132382   \n",
       "2015-04-04       NaN       NaN       NaN       NaN       NaN       NaN   \n",
       "2015-04-05       NaN  0.182292  0.172200  0.093346  0.161836  0.123079   \n",
       "...              ...       ...       ...       ...       ...       ...   \n",
       "2019-06-15       NaN  0.182357  0.246847  0.174636  0.195901  0.128517   \n",
       "2019-06-16  0.285112  0.313376  0.440050  0.290651  0.342612  0.281853   \n",
       "2019-06-17  0.460807  0.205485  0.223651  0.199143  0.259933  0.196285   \n",
       "2019-06-18       NaN       NaN       NaN       NaN       NaN       NaN   \n",
       "2019-06-19  0.205390  0.216553  0.253435  0.241475  0.248683  0.222121   \n",
       "\n",
       "                 132       104       105       106       107       108  \n",
       "Unnamed: 0                                                              \n",
       "2015-04-01       NaN       NaN       NaN       NaN  0.071657       NaN  \n",
       "2015-04-02  0.318112  0.304337  0.286676  0.305297  0.105358  0.239177  \n",
       "2015-04-03  0.376712  0.311578  0.424563  0.442700  0.068868  0.255294  \n",
       "2015-04-04       NaN       NaN       NaN       NaN       NaN       NaN  \n",
       "2015-04-05       NaN  0.170142       NaN  0.166281  0.073206       NaN  \n",
       "...              ...       ...       ...       ...       ...       ...  \n",
       "2019-06-15       NaN       NaN       NaN       NaN  0.113173       NaN  \n",
       "2019-06-16  0.285908  0.307465  0.296087  0.292156  0.192496  0.352086  \n",
       "2019-06-17  0.372796  0.294884  0.412327  0.321689  0.238630  0.199868  \n",
       "2019-06-18       NaN       NaN       NaN       NaN       NaN       NaN  \n",
       "2019-06-19  0.208685  0.209854  0.212649  0.208922  0.137095       NaN  \n",
       "\n",
       "[1537 rows x 115 columns]"
      ]
     },
     "execution_count": 23,
     "metadata": {},
     "output_type": "execute_result"
    }
   ],
   "source": [
    "smap"
   ]
  },
  {
   "cell_type": "code",
   "execution_count": 27,
   "metadata": {},
   "outputs": [],
   "source": [
    "smap.loc[:,'seasons']= ((smap.index.month % 12 + 3) // 3).map({1:'DJF', 2: 'MAM', 3:'JJA', 4:'SON'})"
   ]
  },
  {
   "cell_type": "code",
   "execution_count": 44,
   "metadata": {},
   "outputs": [
    {
     "data": {
      "text/plain": [
       "[427,\n",
       " 394,\n",
       " 362,\n",
       " 361,\n",
       " 359,\n",
       " 357,\n",
       " 355,\n",
       " 354,\n",
       " 354,\n",
       " 351,\n",
       " 350,\n",
       " 335,\n",
       " 304,\n",
       " 304,\n",
       " 304,\n",
       " 303,\n",
       " 303,\n",
       " 303,\n",
       " 303,\n",
       " 303,\n",
       " 303,\n",
       " 303,\n",
       " 303,\n",
       " 303,\n",
       " 303,\n",
       " 303,\n",
       " 303,\n",
       " 303,\n",
       " 303,\n",
       " 303,\n",
       " 303,\n",
       " 303,\n",
       " 303,\n",
       " 302,\n",
       " 302,\n",
       " 302,\n",
       " 302,\n",
       " 302,\n",
       " 302,\n",
       " 302,\n",
       " 302,\n",
       " 302,\n",
       " 302,\n",
       " 302,\n",
       " 301,\n",
       " 301,\n",
       " 301,\n",
       " 301,\n",
       " 301,\n",
       " 301,\n",
       " 301,\n",
       " 301,\n",
       " 301,\n",
       " 301,\n",
       " 300,\n",
       " 300,\n",
       " 300,\n",
       " 298,\n",
       " 297,\n",
       " 297,\n",
       " 293,\n",
       " 293,\n",
       " 292,\n",
       " 292,\n",
       " 291,\n",
       " 279,\n",
       " 271,\n",
       " 264,\n",
       " 264,\n",
       " 262,\n",
       " 261,\n",
       " 255,\n",
       " 252,\n",
       " 252,\n",
       " 251,\n",
       " 251,\n",
       " 251,\n",
       " 251,\n",
       " 251,\n",
       " 250,\n",
       " 250,\n",
       " 250,\n",
       " 250,\n",
       " 250,\n",
       " 250,\n",
       " 250,\n",
       " 250,\n",
       " 249,\n",
       " 249,\n",
       " 249,\n",
       " 249,\n",
       " 249,\n",
       " 249,\n",
       " 249,\n",
       " 249,\n",
       " 249,\n",
       " 248,\n",
       " 248,\n",
       " 248,\n",
       " 248,\n",
       " 248,\n",
       " 248,\n",
       " 248,\n",
       " 248,\n",
       " 248,\n",
       " 248,\n",
       " 247,\n",
       " 242,\n",
       " 236,\n",
       " 234,\n",
       " 228,\n",
       " 228,\n",
       " 228,\n",
       " 225,\n",
       " 215,\n",
       " 196]"
      ]
     },
     "execution_count": 44,
     "metadata": {},
     "output_type": "execute_result"
    }
   ],
   "source": [
    "sorted(smap.apply(lambda x: len(x[(~pd.isna(x)) & (smap.seasons=='MAM')]), axis=0))[::-1]"
   ]
  },
  {
   "cell_type": "code",
   "execution_count": null,
   "metadata": {},
   "outputs": [],
   "source": []
  }
 ],
 "metadata": {
  "kernelspec": {
   "display_name": "Python 3",
   "language": "python",
   "name": "python3"
  },
  "language_info": {
   "codemirror_mode": {
    "name": "ipython",
    "version": 3
   },
   "file_extension": ".py",
   "mimetype": "text/x-python",
   "name": "python",
   "nbconvert_exporter": "python",
   "pygments_lexer": "ipython3",
   "version": "3.6.8"
  }
 },
 "nbformat": 4,
 "nbformat_minor": 4
}
